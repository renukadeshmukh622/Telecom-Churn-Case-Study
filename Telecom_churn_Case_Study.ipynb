{
 "cells": [
  {
   "cell_type": "code",
   "execution_count": 136,
   "id": "995d7dac",
   "metadata": {},
   "outputs": [],
   "source": [
    "import pandas as pd, numpy as np\n",
    "import seaborn as sns\n",
    "import matplotlib.pyplot as plt\n",
    "\n",
    "%matplotlib inline\n",
    "\n",
    "from sklearn.feature_selection import RFE\n",
    "\n",
    "from sklearn.preprocessing import MinMaxScaler\n",
    "from sklearn.preprocessing import RobustScaler\n",
    "from sklearn.preprocessing import StandardScaler\n",
    "\n",
    "from sklearn import metrics\n",
    "from sklearn.metrics import mean_squared_error\n",
    "from sklearn.metrics import r2_score\n",
    "from sklearn.metrics import classification_report\n",
    "from sklearn.metrics import confusion_matrix\n",
    "from sklearn.metrics import accuracy_score\n",
    "\n",
    "from sklearn.preprocessing import LabelEncoder\n",
    "from sklearn.preprocessing import OneHotEncoder\n",
    "\n",
    "from sklearn.decomposition import PCA\n",
    "from sklearn.decomposition import IncrementalPCA\n",
    "\n",
    "from sklearn.linear_model import LinearRegression\n",
    "from sklearn.linear_model import LogisticRegression\n",
    "from sklearn.linear_model import Ridge\n",
    "from sklearn.linear_model import Lasso\n",
    "\n",
    "from sklearn.model_selection import train_test_split\n",
    "from sklearn.model_selection import GridSearchCV\n",
    "\n",
    "from sklearn.tree import DecisionTreeClassifier\n",
    "\n",
    "from sklearn.ensemble import RandomForestClassifier\n",
    "from sklearn.ensemble import AdaBoostClassifier\n",
    "\n",
    "# Suppressing Warnings\n",
    "import warnings\n",
    "warnings.filterwarnings('ignore')"
   ]
  },
  {
   "cell_type": "code",
   "execution_count": 137,
   "id": "754fccd4",
   "metadata": {},
   "outputs": [
    {
     "data": {
      "text/html": [
       "<div>\n",
       "<style scoped>\n",
       "    .dataframe tbody tr th:only-of-type {\n",
       "        vertical-align: middle;\n",
       "    }\n",
       "\n",
       "    .dataframe tbody tr th {\n",
       "        vertical-align: top;\n",
       "    }\n",
       "\n",
       "    .dataframe thead th {\n",
       "        text-align: right;\n",
       "    }\n",
       "</style>\n",
       "<table border=\"1\" class=\"dataframe\">\n",
       "  <thead>\n",
       "    <tr style=\"text-align: right;\">\n",
       "      <th></th>\n",
       "      <th>mobile_number</th>\n",
       "      <th>circle_id</th>\n",
       "      <th>loc_og_t2o_mou</th>\n",
       "      <th>std_og_t2o_mou</th>\n",
       "      <th>loc_ic_t2o_mou</th>\n",
       "      <th>last_date_of_month_6</th>\n",
       "      <th>last_date_of_month_7</th>\n",
       "      <th>last_date_of_month_8</th>\n",
       "      <th>last_date_of_month_9</th>\n",
       "      <th>arpu_6</th>\n",
       "      <th>...</th>\n",
       "      <th>sachet_3g_9</th>\n",
       "      <th>fb_user_6</th>\n",
       "      <th>fb_user_7</th>\n",
       "      <th>fb_user_8</th>\n",
       "      <th>fb_user_9</th>\n",
       "      <th>aon</th>\n",
       "      <th>aug_vbc_3g</th>\n",
       "      <th>jul_vbc_3g</th>\n",
       "      <th>jun_vbc_3g</th>\n",
       "      <th>sep_vbc_3g</th>\n",
       "    </tr>\n",
       "  </thead>\n",
       "  <tbody>\n",
       "    <tr>\n",
       "      <th>0</th>\n",
       "      <td>7000842753</td>\n",
       "      <td>109</td>\n",
       "      <td>0.0</td>\n",
       "      <td>0.0</td>\n",
       "      <td>0.0</td>\n",
       "      <td>6/30/2014</td>\n",
       "      <td>7/31/2014</td>\n",
       "      <td>8/31/2014</td>\n",
       "      <td>9/30/2014</td>\n",
       "      <td>197.385</td>\n",
       "      <td>...</td>\n",
       "      <td>0</td>\n",
       "      <td>1.0</td>\n",
       "      <td>1.0</td>\n",
       "      <td>1.0</td>\n",
       "      <td>NaN</td>\n",
       "      <td>968</td>\n",
       "      <td>30.4</td>\n",
       "      <td>0.0</td>\n",
       "      <td>101.20</td>\n",
       "      <td>3.58</td>\n",
       "    </tr>\n",
       "    <tr>\n",
       "      <th>1</th>\n",
       "      <td>7001865778</td>\n",
       "      <td>109</td>\n",
       "      <td>0.0</td>\n",
       "      <td>0.0</td>\n",
       "      <td>0.0</td>\n",
       "      <td>6/30/2014</td>\n",
       "      <td>7/31/2014</td>\n",
       "      <td>8/31/2014</td>\n",
       "      <td>9/30/2014</td>\n",
       "      <td>34.047</td>\n",
       "      <td>...</td>\n",
       "      <td>0</td>\n",
       "      <td>NaN</td>\n",
       "      <td>1.0</td>\n",
       "      <td>1.0</td>\n",
       "      <td>NaN</td>\n",
       "      <td>1006</td>\n",
       "      <td>0.0</td>\n",
       "      <td>0.0</td>\n",
       "      <td>0.00</td>\n",
       "      <td>0.00</td>\n",
       "    </tr>\n",
       "    <tr>\n",
       "      <th>2</th>\n",
       "      <td>7001625959</td>\n",
       "      <td>109</td>\n",
       "      <td>0.0</td>\n",
       "      <td>0.0</td>\n",
       "      <td>0.0</td>\n",
       "      <td>6/30/2014</td>\n",
       "      <td>7/31/2014</td>\n",
       "      <td>8/31/2014</td>\n",
       "      <td>9/30/2014</td>\n",
       "      <td>167.690</td>\n",
       "      <td>...</td>\n",
       "      <td>0</td>\n",
       "      <td>NaN</td>\n",
       "      <td>NaN</td>\n",
       "      <td>NaN</td>\n",
       "      <td>1.0</td>\n",
       "      <td>1103</td>\n",
       "      <td>0.0</td>\n",
       "      <td>0.0</td>\n",
       "      <td>4.17</td>\n",
       "      <td>0.00</td>\n",
       "    </tr>\n",
       "    <tr>\n",
       "      <th>3</th>\n",
       "      <td>7001204172</td>\n",
       "      <td>109</td>\n",
       "      <td>0.0</td>\n",
       "      <td>0.0</td>\n",
       "      <td>0.0</td>\n",
       "      <td>6/30/2014</td>\n",
       "      <td>7/31/2014</td>\n",
       "      <td>8/31/2014</td>\n",
       "      <td>9/30/2014</td>\n",
       "      <td>221.338</td>\n",
       "      <td>...</td>\n",
       "      <td>0</td>\n",
       "      <td>NaN</td>\n",
       "      <td>NaN</td>\n",
       "      <td>NaN</td>\n",
       "      <td>NaN</td>\n",
       "      <td>2491</td>\n",
       "      <td>0.0</td>\n",
       "      <td>0.0</td>\n",
       "      <td>0.00</td>\n",
       "      <td>0.00</td>\n",
       "    </tr>\n",
       "    <tr>\n",
       "      <th>4</th>\n",
       "      <td>7000142493</td>\n",
       "      <td>109</td>\n",
       "      <td>0.0</td>\n",
       "      <td>0.0</td>\n",
       "      <td>0.0</td>\n",
       "      <td>6/30/2014</td>\n",
       "      <td>7/31/2014</td>\n",
       "      <td>8/31/2014</td>\n",
       "      <td>9/30/2014</td>\n",
       "      <td>261.636</td>\n",
       "      <td>...</td>\n",
       "      <td>0</td>\n",
       "      <td>0.0</td>\n",
       "      <td>NaN</td>\n",
       "      <td>NaN</td>\n",
       "      <td>NaN</td>\n",
       "      <td>1526</td>\n",
       "      <td>0.0</td>\n",
       "      <td>0.0</td>\n",
       "      <td>0.00</td>\n",
       "      <td>0.00</td>\n",
       "    </tr>\n",
       "  </tbody>\n",
       "</table>\n",
       "<p>5 rows × 226 columns</p>\n",
       "</div>"
      ],
      "text/plain": [
       "   mobile_number  circle_id  loc_og_t2o_mou  std_og_t2o_mou  loc_ic_t2o_mou  \\\n",
       "0     7000842753        109             0.0             0.0             0.0   \n",
       "1     7001865778        109             0.0             0.0             0.0   \n",
       "2     7001625959        109             0.0             0.0             0.0   \n",
       "3     7001204172        109             0.0             0.0             0.0   \n",
       "4     7000142493        109             0.0             0.0             0.0   \n",
       "\n",
       "  last_date_of_month_6 last_date_of_month_7 last_date_of_month_8  \\\n",
       "0            6/30/2014            7/31/2014            8/31/2014   \n",
       "1            6/30/2014            7/31/2014            8/31/2014   \n",
       "2            6/30/2014            7/31/2014            8/31/2014   \n",
       "3            6/30/2014            7/31/2014            8/31/2014   \n",
       "4            6/30/2014            7/31/2014            8/31/2014   \n",
       "\n",
       "  last_date_of_month_9   arpu_6  ...  sachet_3g_9  fb_user_6  fb_user_7  \\\n",
       "0            9/30/2014  197.385  ...            0        1.0        1.0   \n",
       "1            9/30/2014   34.047  ...            0        NaN        1.0   \n",
       "2            9/30/2014  167.690  ...            0        NaN        NaN   \n",
       "3            9/30/2014  221.338  ...            0        NaN        NaN   \n",
       "4            9/30/2014  261.636  ...            0        0.0        NaN   \n",
       "\n",
       "   fb_user_8  fb_user_9   aon  aug_vbc_3g  jul_vbc_3g  jun_vbc_3g  sep_vbc_3g  \n",
       "0        1.0        NaN   968        30.4         0.0      101.20        3.58  \n",
       "1        1.0        NaN  1006         0.0         0.0        0.00        0.00  \n",
       "2        NaN        1.0  1103         0.0         0.0        4.17        0.00  \n",
       "3        NaN        NaN  2491         0.0         0.0        0.00        0.00  \n",
       "4        NaN        NaN  1526         0.0         0.0        0.00        0.00  \n",
       "\n",
       "[5 rows x 226 columns]"
      ]
     },
     "execution_count": 137,
     "metadata": {},
     "output_type": "execute_result"
    }
   ],
   "source": [
    "telecom_data = pd.read_csv(\"C:\\\\Users\\\\renuk\\\\OneDrive\\\\Documents\\\\Telecom_Churn_CaseStudy\\\\telecom_churn_data.csv\")\n",
    "telecom_data.head()"
   ]
  },
  {
   "cell_type": "markdown",
   "id": "11253148",
   "metadata": {},
   "source": [
    "### Extracting the 9th Month columns from the give Dataset"
   ]
  },
  {
   "cell_type": "code",
   "execution_count": 138,
   "id": "8b7ac5f7",
   "metadata": {},
   "outputs": [],
   "source": [
    "telecom_data_9=telecom_data[telecom_data.columns[telecom_data.columns.str.contains('_9')]]"
   ]
  },
  {
   "cell_type": "code",
   "execution_count": 139,
   "id": "b25c050a",
   "metadata": {},
   "outputs": [
    {
     "data": {
      "text/plain": [
       "Index(['last_date_of_month_9', 'arpu_9', 'onnet_mou_9', 'offnet_mou_9',\n",
       "       'roam_ic_mou_9', 'roam_og_mou_9', 'loc_og_t2t_mou_9',\n",
       "       'loc_og_t2m_mou_9', 'loc_og_t2f_mou_9', 'loc_og_t2c_mou_9',\n",
       "       'loc_og_mou_9', 'std_og_t2t_mou_9', 'std_og_t2m_mou_9',\n",
       "       'std_og_t2f_mou_9', 'std_og_t2c_mou_9', 'std_og_mou_9', 'isd_og_mou_9',\n",
       "       'spl_og_mou_9', 'og_others_9', 'total_og_mou_9', 'loc_ic_t2t_mou_9',\n",
       "       'loc_ic_t2m_mou_9', 'loc_ic_t2f_mou_9', 'loc_ic_mou_9',\n",
       "       'std_ic_t2t_mou_9', 'std_ic_t2m_mou_9', 'std_ic_t2f_mou_9',\n",
       "       'std_ic_t2o_mou_9', 'std_ic_mou_9', 'total_ic_mou_9', 'spl_ic_mou_9',\n",
       "       'isd_ic_mou_9', 'ic_others_9', 'total_rech_num_9', 'total_rech_amt_9',\n",
       "       'max_rech_amt_9', 'date_of_last_rech_9', 'last_day_rch_amt_9',\n",
       "       'date_of_last_rech_data_9', 'total_rech_data_9', 'max_rech_data_9',\n",
       "       'count_rech_2g_9', 'count_rech_3g_9', 'av_rech_amt_data_9',\n",
       "       'vol_2g_mb_9', 'vol_3g_mb_9', 'arpu_3g_9', 'arpu_2g_9',\n",
       "       'night_pck_user_9', 'monthly_2g_9', 'sachet_2g_9', 'monthly_3g_9',\n",
       "       'sachet_3g_9', 'fb_user_9'],\n",
       "      dtype='object')"
      ]
     },
     "execution_count": 139,
     "metadata": {},
     "output_type": "execute_result"
    }
   ],
   "source": [
    "telecom_data_9.columns"
   ]
  },
  {
   "cell_type": "markdown",
   "id": "aef1ce4d",
   "metadata": {},
   "source": [
    "##### These columns will be deleted from the Main Dataset after creating the target variable churn."
   ]
  },
  {
   "cell_type": "code",
   "execution_count": 140,
   "id": "fbb29e15",
   "metadata": {},
   "outputs": [
    {
     "data": {
      "text/plain": [
       "(99999, 54)"
      ]
     },
     "execution_count": 140,
     "metadata": {},
     "output_type": "execute_result"
    }
   ],
   "source": [
    "telecom_data_9.shape"
   ]
  },
  {
   "cell_type": "markdown",
   "id": "9dca35db",
   "metadata": {},
   "source": [
    "#### Now the 4 variables total_ic_mou_9,total_og_mou_9,vol_2g_mb_9,vol_3g_mb_9 will help us to tag to tag the customers as churn or not.\n",
    "\n",
    "#### If the toatal of the 4 variables is 0 then customer will be tagged as churned otherwise not churned"
   ]
  },
  {
   "cell_type": "code",
   "execution_count": 141,
   "id": "e3b3aa86",
   "metadata": {},
   "outputs": [],
   "source": [
    "# Creating the target variable depending upon the total_ic_mou_9,total_og_mou_9,vol_2g_mb_9,vol_3g_mb_9 \n",
    "# Creating a new variable Total usage to get the sum of all the columns.\n",
    "\n",
    "telecom_data['Total_usage'] = telecom_data['total_ic_mou_9'] + telecom_data['total_og_mou_9'] + telecom_data['vol_2g_mb_9'] + telecom_data['vol_3g_mb_9']\n"
   ]
  },
  {
   "cell_type": "code",
   "execution_count": 142,
   "id": "cbab4a38",
   "metadata": {},
   "outputs": [],
   "source": [
    "# Creating the variable churn : if the Total_usage = 0 then churn value is 1\n",
    "telecom_data['churn'] = telecom_data.Total_usage.apply(lambda x:1 if x==0 else 0)"
   ]
  },
  {
   "cell_type": "code",
   "execution_count": 143,
   "id": "f63a3bf2",
   "metadata": {},
   "outputs": [
    {
     "data": {
      "text/html": [
       "<div>\n",
       "<style scoped>\n",
       "    .dataframe tbody tr th:only-of-type {\n",
       "        vertical-align: middle;\n",
       "    }\n",
       "\n",
       "    .dataframe tbody tr th {\n",
       "        vertical-align: top;\n",
       "    }\n",
       "\n",
       "    .dataframe thead th {\n",
       "        text-align: right;\n",
       "    }\n",
       "</style>\n",
       "<table border=\"1\" class=\"dataframe\">\n",
       "  <thead>\n",
       "    <tr style=\"text-align: right;\">\n",
       "      <th></th>\n",
       "      <th>Total_usage</th>\n",
       "      <th>churn</th>\n",
       "    </tr>\n",
       "  </thead>\n",
       "  <tbody>\n",
       "    <tr>\n",
       "      <th>0</th>\n",
       "      <td>0.00</td>\n",
       "      <td>1</td>\n",
       "    </tr>\n",
       "    <tr>\n",
       "      <th>1</th>\n",
       "      <td>260.15</td>\n",
       "      <td>0</td>\n",
       "    </tr>\n",
       "    <tr>\n",
       "      <th>2</th>\n",
       "      <td>651.10</td>\n",
       "      <td>0</td>\n",
       "    </tr>\n",
       "    <tr>\n",
       "      <th>3</th>\n",
       "      <td>667.92</td>\n",
       "      <td>0</td>\n",
       "    </tr>\n",
       "    <tr>\n",
       "      <th>4</th>\n",
       "      <td>309.90</td>\n",
       "      <td>0</td>\n",
       "    </tr>\n",
       "    <tr>\n",
       "      <th>...</th>\n",
       "      <td>...</td>\n",
       "      <td>...</td>\n",
       "    </tr>\n",
       "    <tr>\n",
       "      <th>99994</th>\n",
       "      <td>181.57</td>\n",
       "      <td>0</td>\n",
       "    </tr>\n",
       "    <tr>\n",
       "      <th>99995</th>\n",
       "      <td>215.25</td>\n",
       "      <td>0</td>\n",
       "    </tr>\n",
       "    <tr>\n",
       "      <th>99996</th>\n",
       "      <td>0.00</td>\n",
       "      <td>1</td>\n",
       "    </tr>\n",
       "    <tr>\n",
       "      <th>99997</th>\n",
       "      <td>4265.02</td>\n",
       "      <td>0</td>\n",
       "    </tr>\n",
       "    <tr>\n",
       "      <th>99998</th>\n",
       "      <td>0.00</td>\n",
       "      <td>1</td>\n",
       "    </tr>\n",
       "  </tbody>\n",
       "</table>\n",
       "<p>99999 rows × 2 columns</p>\n",
       "</div>"
      ],
      "text/plain": [
       "       Total_usage  churn\n",
       "0             0.00      1\n",
       "1           260.15      0\n",
       "2           651.10      0\n",
       "3           667.92      0\n",
       "4           309.90      0\n",
       "...            ...    ...\n",
       "99994       181.57      0\n",
       "99995       215.25      0\n",
       "99996         0.00      1\n",
       "99997      4265.02      0\n",
       "99998         0.00      1\n",
       "\n",
       "[99999 rows x 2 columns]"
      ]
     },
     "execution_count": 143,
     "metadata": {},
     "output_type": "execute_result"
    }
   ],
   "source": [
    "telecom_data[['Total_usage','churn']]"
   ]
  },
  {
   "cell_type": "markdown",
   "id": "9ed76984",
   "metadata": {},
   "source": [
    "#### Now checking the percentage of churned customers"
   ]
  },
  {
   "cell_type": "code",
   "execution_count": 144,
   "id": "25be014b",
   "metadata": {},
   "outputs": [],
   "source": [
    "churn_percentage = (telecom_data.churn.sum())/len(telecom_data)*100"
   ]
  },
  {
   "cell_type": "code",
   "execution_count": 145,
   "id": "f5d84809",
   "metadata": {},
   "outputs": [
    {
     "data": {
      "text/plain": [
       "10.19110191101911"
      ]
     },
     "execution_count": 145,
     "metadata": {},
     "output_type": "execute_result"
    }
   ],
   "source": [
    "churn_percentage"
   ]
  },
  {
   "cell_type": "code",
   "execution_count": 128,
   "id": "bb396f96",
   "metadata": {},
   "outputs": [],
   "source": [
    "# The churn percentage is very small this means that data is highly imbalanced. We will have to take care of the class imbalance "
   ]
  },
  {
   "cell_type": "code",
   "execution_count": 146,
   "id": "3a21a237",
   "metadata": {},
   "outputs": [],
   "source": [
    "# Dropping the columns of 9th month and Toatl usage as these wont be used for predictions\n",
    "telecom_data.drop(columns=telecom_data_9.columns, inplace=True)\n",
    "telecom_data.drop('Total_usage',axis=1,inplace=True)"
   ]
  },
  {
   "cell_type": "markdown",
   "id": "3a44ad43",
   "metadata": {},
   "source": [
    "### Now we need to filter the high value customers as they marks for 80% of the revenue and thus being important for the company "
   ]
  },
  {
   "cell_type": "markdown",
   "id": "25adce62",
   "metadata": {},
   "source": [
    "##### High Value Customers - Those who have recharged with an amount more than or equal to X, where X is the 70th percentile of the average recharge amount in the first two months (the good phase)."
   ]
  },
  {
   "cell_type": "code",
   "execution_count": 147,
   "id": "75f946dd",
   "metadata": {},
   "outputs": [
    {
     "data": {
      "text/plain": [
       "total_rech_num_6             0.000000\n",
       "total_rech_num_7             0.000000\n",
       "total_rech_num_8             0.000000\n",
       "total_rech_amt_6             0.000000\n",
       "total_rech_amt_7             0.000000\n",
       "total_rech_amt_8             0.000000\n",
       "max_rech_amt_6               0.000000\n",
       "max_rech_amt_7               0.000000\n",
       "max_rech_amt_8               0.000000\n",
       "date_of_last_rech_6          1.607016\n",
       "date_of_last_rech_7          1.767018\n",
       "date_of_last_rech_8          3.622036\n",
       "date_of_last_rech_data_6    74.846748\n",
       "date_of_last_rech_data_7    74.428744\n",
       "date_of_last_rech_data_8    73.660737\n",
       "total_rech_data_6           74.846748\n",
       "total_rech_data_7           74.428744\n",
       "total_rech_data_8           73.660737\n",
       "max_rech_data_6             74.846748\n",
       "max_rech_data_7             74.428744\n",
       "max_rech_data_8             73.660737\n",
       "count_rech_2g_6             74.846748\n",
       "count_rech_2g_7             74.428744\n",
       "count_rech_2g_8             73.660737\n",
       "count_rech_3g_6             74.846748\n",
       "count_rech_3g_7             74.428744\n",
       "count_rech_3g_8             73.660737\n",
       "av_rech_amt_data_6          74.846748\n",
       "av_rech_amt_data_7          74.428744\n",
       "av_rech_amt_data_8          73.660737\n",
       "dtype: float64"
      ]
     },
     "execution_count": 147,
     "metadata": {},
     "output_type": "execute_result"
    }
   ],
   "source": [
    "# High Value customers\n",
    "telecom_data[telecom_data.columns[telecom_data.columns.str.contains('_rech')]].isnull().sum()/len(telecom_data)*100"
   ]
  },
  {
   "cell_type": "code",
   "execution_count": 148,
   "id": "a7c2172f",
   "metadata": {},
   "outputs": [],
   "source": [
    "# Imputing av_rech_amt_data_6,av_rech_amt_data_7,total_rech_data_6,total_rech_data_7 with 0\n",
    "a = ['av_rech_amt_data_6','av_rech_amt_data_7','total_rech_data_6','total_rech_data_7']\n",
    "telecom_data[a]=telecom_data[a].fillna(0)"
   ]
  },
  {
   "cell_type": "code",
   "execution_count": 149,
   "id": "a3400138",
   "metadata": {},
   "outputs": [],
   "source": [
    "# For high Value Customres finding - Calculate Total Recharge Amount for June and July \n",
    "total_data_rech_amt_6 = telecom_data['total_rech_data_6']*telecom_data['av_rech_amt_data_6']\n",
    "\n",
    "total_call_rech_amt_6 = telecom_data['total_rech_amt_6']\n",
    "\n",
    "total_rech_amt_june = total_data_rech_amt_6 + total_call_rech_amt_6\n",
    "\n",
    "total_data_rech_amt_7 = telecom_data['total_rech_data_7']*telecom_data['av_rech_amt_data_7']\n",
    "\n",
    "total_call_rech_amt_7 = telecom_data['total_rech_amt_7']\n",
    "\n",
    "total_rech_amt_july=total_call_rech_amt_7+total_data_rech_amt_7"
   ]
  },
  {
   "cell_type": "code",
   "execution_count": 150,
   "id": "2129a0ec",
   "metadata": {},
   "outputs": [],
   "source": [
    "# Average for June and July \n",
    "telecom_data['Avg_rech_amt_6_7'] = (total_rech_amt_june + total_rech_amt_july)/2"
   ]
  },
  {
   "cell_type": "code",
   "execution_count": 151,
   "id": "9e5635c7",
   "metadata": {},
   "outputs": [
    {
     "data": {
      "text/plain": [
       "478.0"
      ]
     },
     "execution_count": 151,
     "metadata": {},
     "output_type": "execute_result"
    }
   ],
   "source": [
    "# calculating 70th percentile\n",
    "telecom_data.Avg_rech_amt_6_7.quantile(0.7)"
   ]
  },
  {
   "cell_type": "code",
   "execution_count": 152,
   "id": "c45f9418",
   "metadata": {},
   "outputs": [],
   "source": [
    "# Creating the new dataframe of High value customers \n",
    "hvc_df = telecom_data[telecom_data.Avg_rech_amt_6_7 >= telecom_data.Avg_rech_amt_6_7.quantile(0.7)]"
   ]
  },
  {
   "cell_type": "code",
   "execution_count": 153,
   "id": "ba54058b",
   "metadata": {},
   "outputs": [
    {
     "data": {
      "text/plain": [
       "(30001, 174)"
      ]
     },
     "execution_count": 153,
     "metadata": {},
     "output_type": "execute_result"
    }
   ],
   "source": [
    "hvc_df.shape"
   ]
  },
  {
   "cell_type": "code",
   "execution_count": 154,
   "id": "3121fa96",
   "metadata": {},
   "outputs": [],
   "source": [
    "b=hvc_df.columns[hvc_df.nunique()==1]"
   ]
  },
  {
   "cell_type": "code",
   "execution_count": 155,
   "id": "4ccaad83",
   "metadata": {},
   "outputs": [],
   "source": [
    "#Droping the columns having single value\n",
    "hvc_df= hvc_df.drop(columns=b)"
   ]
  },
  {
   "cell_type": "markdown",
   "id": "4544c98b",
   "metadata": {},
   "source": [
    "### Missing value treatment "
   ]
  },
  {
   "cell_type": "code",
   "execution_count": 156,
   "id": "cdbbe06b",
   "metadata": {},
   "outputs": [],
   "source": [
    "#checking for null values\n",
    "m = pd.DataFrame({'column_name':hvc_df.columns,'missing_per' : hvc_df.isnull().sum()*100/len(hvc_df)}).reset_index(drop=True)"
   ]
  },
  {
   "cell_type": "code",
   "execution_count": 157,
   "id": "32cf14c9",
   "metadata": {},
   "outputs": [
    {
     "name": "stdout",
     "output_type": "stream",
     "text": [
      "<class 'pandas.core.frame.DataFrame'>\n",
      "Int64Index: 30001 entries, 0 to 99997\n",
      "Columns: 161 entries, mobile_number to Avg_rech_amt_6_7\n",
      "dtypes: float64(128), int64(27), object(6)\n",
      "memory usage: 37.1+ MB\n"
     ]
    }
   ],
   "source": [
    "hvc_df.info()"
   ]
  },
  {
   "cell_type": "code",
   "execution_count": 158,
   "id": "c55c121c",
   "metadata": {},
   "outputs": [
    {
     "data": {
      "text/html": [
       "<div>\n",
       "<style scoped>\n",
       "    .dataframe tbody tr th:only-of-type {\n",
       "        vertical-align: middle;\n",
       "    }\n",
       "\n",
       "    .dataframe tbody tr th {\n",
       "        vertical-align: top;\n",
       "    }\n",
       "\n",
       "    .dataframe thead th {\n",
       "        text-align: right;\n",
       "    }\n",
       "</style>\n",
       "<table border=\"1\" class=\"dataframe\">\n",
       "  <thead>\n",
       "    <tr style=\"text-align: right;\">\n",
       "      <th></th>\n",
       "      <th>column_name</th>\n",
       "      <th>missing_per</th>\n",
       "    </tr>\n",
       "  </thead>\n",
       "  <tbody>\n",
       "    <tr>\n",
       "      <th>106</th>\n",
       "      <td>date_of_last_rech_data_6</td>\n",
       "      <td>44.148528</td>\n",
       "    </tr>\n",
       "    <tr>\n",
       "      <th>107</th>\n",
       "      <td>date_of_last_rech_data_7</td>\n",
       "      <td>43.145228</td>\n",
       "    </tr>\n",
       "    <tr>\n",
       "      <th>108</th>\n",
       "      <td>date_of_last_rech_data_8</td>\n",
       "      <td>46.825106</td>\n",
       "    </tr>\n",
       "    <tr>\n",
       "      <th>111</th>\n",
       "      <td>total_rech_data_8</td>\n",
       "      <td>46.825106</td>\n",
       "    </tr>\n",
       "    <tr>\n",
       "      <th>112</th>\n",
       "      <td>max_rech_data_6</td>\n",
       "      <td>44.148528</td>\n",
       "    </tr>\n",
       "    <tr>\n",
       "      <th>113</th>\n",
       "      <td>max_rech_data_7</td>\n",
       "      <td>43.145228</td>\n",
       "    </tr>\n",
       "    <tr>\n",
       "      <th>114</th>\n",
       "      <td>max_rech_data_8</td>\n",
       "      <td>46.825106</td>\n",
       "    </tr>\n",
       "    <tr>\n",
       "      <th>115</th>\n",
       "      <td>count_rech_2g_6</td>\n",
       "      <td>44.148528</td>\n",
       "    </tr>\n",
       "    <tr>\n",
       "      <th>116</th>\n",
       "      <td>count_rech_2g_7</td>\n",
       "      <td>43.145228</td>\n",
       "    </tr>\n",
       "    <tr>\n",
       "      <th>117</th>\n",
       "      <td>count_rech_2g_8</td>\n",
       "      <td>46.825106</td>\n",
       "    </tr>\n",
       "    <tr>\n",
       "      <th>118</th>\n",
       "      <td>count_rech_3g_6</td>\n",
       "      <td>44.148528</td>\n",
       "    </tr>\n",
       "    <tr>\n",
       "      <th>119</th>\n",
       "      <td>count_rech_3g_7</td>\n",
       "      <td>43.145228</td>\n",
       "    </tr>\n",
       "    <tr>\n",
       "      <th>120</th>\n",
       "      <td>count_rech_3g_8</td>\n",
       "      <td>46.825106</td>\n",
       "    </tr>\n",
       "    <tr>\n",
       "      <th>123</th>\n",
       "      <td>av_rech_amt_data_8</td>\n",
       "      <td>46.825106</td>\n",
       "    </tr>\n",
       "    <tr>\n",
       "      <th>130</th>\n",
       "      <td>arpu_3g_6</td>\n",
       "      <td>44.148528</td>\n",
       "    </tr>\n",
       "    <tr>\n",
       "      <th>131</th>\n",
       "      <td>arpu_3g_7</td>\n",
       "      <td>43.145228</td>\n",
       "    </tr>\n",
       "    <tr>\n",
       "      <th>132</th>\n",
       "      <td>arpu_3g_8</td>\n",
       "      <td>46.825106</td>\n",
       "    </tr>\n",
       "    <tr>\n",
       "      <th>133</th>\n",
       "      <td>arpu_2g_6</td>\n",
       "      <td>44.148528</td>\n",
       "    </tr>\n",
       "    <tr>\n",
       "      <th>134</th>\n",
       "      <td>arpu_2g_7</td>\n",
       "      <td>43.145228</td>\n",
       "    </tr>\n",
       "    <tr>\n",
       "      <th>135</th>\n",
       "      <td>arpu_2g_8</td>\n",
       "      <td>46.825106</td>\n",
       "    </tr>\n",
       "    <tr>\n",
       "      <th>136</th>\n",
       "      <td>night_pck_user_6</td>\n",
       "      <td>44.148528</td>\n",
       "    </tr>\n",
       "    <tr>\n",
       "      <th>137</th>\n",
       "      <td>night_pck_user_7</td>\n",
       "      <td>43.145228</td>\n",
       "    </tr>\n",
       "    <tr>\n",
       "      <th>138</th>\n",
       "      <td>night_pck_user_8</td>\n",
       "      <td>46.825106</td>\n",
       "    </tr>\n",
       "    <tr>\n",
       "      <th>151</th>\n",
       "      <td>fb_user_6</td>\n",
       "      <td>44.148528</td>\n",
       "    </tr>\n",
       "    <tr>\n",
       "      <th>152</th>\n",
       "      <td>fb_user_7</td>\n",
       "      <td>43.145228</td>\n",
       "    </tr>\n",
       "    <tr>\n",
       "      <th>153</th>\n",
       "      <td>fb_user_8</td>\n",
       "      <td>46.825106</td>\n",
       "    </tr>\n",
       "  </tbody>\n",
       "</table>\n",
       "</div>"
      ],
      "text/plain": [
       "                  column_name  missing_per\n",
       "106  date_of_last_rech_data_6    44.148528\n",
       "107  date_of_last_rech_data_7    43.145228\n",
       "108  date_of_last_rech_data_8    46.825106\n",
       "111         total_rech_data_8    46.825106\n",
       "112           max_rech_data_6    44.148528\n",
       "113           max_rech_data_7    43.145228\n",
       "114           max_rech_data_8    46.825106\n",
       "115           count_rech_2g_6    44.148528\n",
       "116           count_rech_2g_7    43.145228\n",
       "117           count_rech_2g_8    46.825106\n",
       "118           count_rech_3g_6    44.148528\n",
       "119           count_rech_3g_7    43.145228\n",
       "120           count_rech_3g_8    46.825106\n",
       "123        av_rech_amt_data_8    46.825106\n",
       "130                 arpu_3g_6    44.148528\n",
       "131                 arpu_3g_7    43.145228\n",
       "132                 arpu_3g_8    46.825106\n",
       "133                 arpu_2g_6    44.148528\n",
       "134                 arpu_2g_7    43.145228\n",
       "135                 arpu_2g_8    46.825106\n",
       "136          night_pck_user_6    44.148528\n",
       "137          night_pck_user_7    43.145228\n",
       "138          night_pck_user_8    46.825106\n",
       "151                 fb_user_6    44.148528\n",
       "152                 fb_user_7    43.145228\n",
       "153                 fb_user_8    46.825106"
      ]
     },
     "execution_count": 158,
     "metadata": {},
     "output_type": "execute_result"
    }
   ],
   "source": [
    "# checking the columns with missing values more than 40%\n",
    "m.loc[m['missing_per']>40,:]"
   ]
  },
  {
   "cell_type": "code",
   "execution_count": 159,
   "id": "df3c4549",
   "metadata": {},
   "outputs": [
    {
     "data": {
      "text/plain": [
       "mobile_number         0\n",
       "total_rech_num_6      0\n",
       "total_rech_num_7      0\n",
       "total_rech_num_8      0\n",
       "total_rech_amt_6      0\n",
       "total_rech_amt_7      0\n",
       "total_rech_amt_8      0\n",
       "max_rech_amt_6        0\n",
       "max_rech_amt_7        0\n",
       "max_rech_amt_8        0\n",
       "last_day_rch_amt_6    0\n",
       "last_day_rch_amt_7    0\n",
       "last_day_rch_amt_8    0\n",
       "monthly_2g_6          0\n",
       "monthly_2g_7          0\n",
       "monthly_2g_8          0\n",
       "sachet_2g_6           0\n",
       "sachet_2g_7           0\n",
       "sachet_2g_8           0\n",
       "monthly_3g_6          0\n",
       "monthly_3g_7          0\n",
       "monthly_3g_8          0\n",
       "sachet_3g_6           0\n",
       "sachet_3g_7           0\n",
       "sachet_3g_8           0\n",
       "aon                   0\n",
       "churn                 0\n",
       "dtype: int64"
      ]
     },
     "execution_count": 159,
     "metadata": {},
     "output_type": "execute_result"
    }
   ],
   "source": [
    "# Checking if int datatype has null rows\n",
    "hvc_df.loc[:,hvc_df.dtypes=='int64'].isnull().sum()"
   ]
  },
  {
   "cell_type": "code",
   "execution_count": 160,
   "id": "21658082",
   "metadata": {},
   "outputs": [],
   "source": [
    "# Mobile number is of no use in analysis \n",
    "hvc_df.drop('mobile_number', axis=1, inplace=True)"
   ]
  },
  {
   "cell_type": "code",
   "execution_count": 161,
   "id": "04bd6414",
   "metadata": {},
   "outputs": [
    {
     "data": {
      "text/plain": [
       "[None,\n",
       " None,\n",
       " None,\n",
       " None,\n",
       " None,\n",
       " None,\n",
       " None,\n",
       " None,\n",
       " None,\n",
       " None,\n",
       " None,\n",
       " None,\n",
       " None,\n",
       " None,\n",
       " None,\n",
       " None,\n",
       " None,\n",
       " None,\n",
       " None,\n",
       " None,\n",
       " None,\n",
       " None,\n",
       " None,\n",
       " None,\n",
       " None,\n",
       " None,\n",
       " None,\n",
       " None,\n",
       " None,\n",
       " None,\n",
       " None,\n",
       " None,\n",
       " None,\n",
       " None,\n",
       " None,\n",
       " None,\n",
       " None,\n",
       " None,\n",
       " None,\n",
       " None,\n",
       " None,\n",
       " None,\n",
       " None,\n",
       " None,\n",
       " None,\n",
       " None,\n",
       " None,\n",
       " None,\n",
       " None,\n",
       " None,\n",
       " None,\n",
       " None,\n",
       " None,\n",
       " None,\n",
       " None,\n",
       " None,\n",
       " None,\n",
       " None,\n",
       " None,\n",
       " None,\n",
       " None,\n",
       " None,\n",
       " None,\n",
       " None,\n",
       " None,\n",
       " None,\n",
       " None,\n",
       " None,\n",
       " None,\n",
       " None,\n",
       " None,\n",
       " None,\n",
       " None,\n",
       " None,\n",
       " None,\n",
       " None,\n",
       " None,\n",
       " None,\n",
       " None,\n",
       " None,\n",
       " None,\n",
       " None,\n",
       " None,\n",
       " None,\n",
       " None,\n",
       " None,\n",
       " None,\n",
       " None,\n",
       " None,\n",
       " None,\n",
       " None,\n",
       " None,\n",
       " None,\n",
       " None,\n",
       " None,\n",
       " None,\n",
       " None,\n",
       " None,\n",
       " None,\n",
       " None,\n",
       " None,\n",
       " None,\n",
       " None,\n",
       " None,\n",
       " None,\n",
       " None,\n",
       " None,\n",
       " None,\n",
       " None,\n",
       " None,\n",
       " None,\n",
       " None,\n",
       " None,\n",
       " None,\n",
       " None,\n",
       " None,\n",
       " None,\n",
       " None,\n",
       " None,\n",
       " None,\n",
       " None,\n",
       " None,\n",
       " None,\n",
       " None,\n",
       " None,\n",
       " None,\n",
       " None,\n",
       " None]"
      ]
     },
     "execution_count": 161,
     "metadata": {},
     "output_type": "execute_result"
    }
   ],
   "source": [
    "# checking for null values in float columns \n",
    "hvc_dff_col=hvc_df.loc[:, hvc_df.dtypes=='float64'].columns\n",
    "\n",
    "# Imputing null values with 0 \n",
    "[hvc_df[col].fillna(0.0, inplace=True) for col in hvc_dff_col]"
   ]
  },
  {
   "cell_type": "code",
   "execution_count": 162,
   "id": "57ef19e8",
   "metadata": {},
   "outputs": [
    {
     "data": {
      "text/plain": [
       "0    128\n",
       "dtype: int64"
      ]
     },
     "execution_count": 162,
     "metadata": {},
     "output_type": "execute_result"
    }
   ],
   "source": [
    "# The null values is 0 after imputing\n",
    "hvc_df.loc[:, hvc_df.dtypes=='float64'].isnull().sum().value_counts()"
   ]
  },
  {
   "cell_type": "code",
   "execution_count": 163,
   "id": "04595486",
   "metadata": {},
   "outputs": [
    {
     "data": {
      "text/html": [
       "<div>\n",
       "<style scoped>\n",
       "    .dataframe tbody tr th:only-of-type {\n",
       "        vertical-align: middle;\n",
       "    }\n",
       "\n",
       "    .dataframe tbody tr th {\n",
       "        vertical-align: top;\n",
       "    }\n",
       "\n",
       "    .dataframe thead th {\n",
       "        text-align: right;\n",
       "    }\n",
       "</style>\n",
       "<table border=\"1\" class=\"dataframe\">\n",
       "  <thead>\n",
       "    <tr style=\"text-align: right;\">\n",
       "      <th></th>\n",
       "      <th>column_name</th>\n",
       "      <th>missing_per</th>\n",
       "    </tr>\n",
       "  </thead>\n",
       "  <tbody>\n",
       "    <tr>\n",
       "      <th>99</th>\n",
       "      <td>date_of_last_rech_6</td>\n",
       "      <td>0.243325</td>\n",
       "    </tr>\n",
       "    <tr>\n",
       "      <th>100</th>\n",
       "      <td>date_of_last_rech_7</td>\n",
       "      <td>0.326656</td>\n",
       "    </tr>\n",
       "    <tr>\n",
       "      <th>101</th>\n",
       "      <td>date_of_last_rech_8</td>\n",
       "      <td>1.943269</td>\n",
       "    </tr>\n",
       "    <tr>\n",
       "      <th>105</th>\n",
       "      <td>date_of_last_rech_data_6</td>\n",
       "      <td>44.148528</td>\n",
       "    </tr>\n",
       "    <tr>\n",
       "      <th>106</th>\n",
       "      <td>date_of_last_rech_data_7</td>\n",
       "      <td>43.145228</td>\n",
       "    </tr>\n",
       "    <tr>\n",
       "      <th>107</th>\n",
       "      <td>date_of_last_rech_data_8</td>\n",
       "      <td>46.825106</td>\n",
       "    </tr>\n",
       "  </tbody>\n",
       "</table>\n",
       "</div>"
      ],
      "text/plain": [
       "                  column_name  missing_per\n",
       "99        date_of_last_rech_6     0.243325\n",
       "100       date_of_last_rech_7     0.326656\n",
       "101       date_of_last_rech_8     1.943269\n",
       "105  date_of_last_rech_data_6    44.148528\n",
       "106  date_of_last_rech_data_7    43.145228\n",
       "107  date_of_last_rech_data_8    46.825106"
      ]
     },
     "execution_count": 163,
     "metadata": {},
     "output_type": "execute_result"
    }
   ],
   "source": [
    "#check to see for which columns percentage of missing values is greater than 0\n",
    "m=pd.DataFrame({'column_name':hvc_df.columns,'missing_per': hvc_df.isnull().sum()*100/len(hvc_df)}).reset_index(drop=True)\n",
    "m.loc[m['missing_per']>0,:]"
   ]
  },
  {
   "cell_type": "code",
   "execution_count": 164,
   "id": "379020cb",
   "metadata": {},
   "outputs": [],
   "source": [
    "# Date of last recharge for call and data can be imputed with min value pesent in the column\n",
    "date_columns = hvc_df.select_dtypes(include='object').columns"
   ]
  },
  {
   "cell_type": "code",
   "execution_count": 165,
   "id": "a72a6b62",
   "metadata": {},
   "outputs": [],
   "source": [
    "for col in date_columns:\n",
    "    x = hvc_df.loc[~hvc_df[col].isna(),col].min()\n",
    "    hvc_df.loc[hvc_df[col].isna(),col] = x"
   ]
  },
  {
   "cell_type": "code",
   "execution_count": 166,
   "id": "922c5462",
   "metadata": {},
   "outputs": [],
   "source": [
    "for col in date_columns:\n",
    "    hvc_df[col] = pd.to_datetime(hvc_df[col],errors='coerce')"
   ]
  },
  {
   "cell_type": "code",
   "execution_count": 167,
   "id": "5a4b3032",
   "metadata": {},
   "outputs": [],
   "source": [
    "# for calculating week of the month from date columns\n",
    "for col in date_columns:\n",
    "    hvc_df[col] = hvc_df[col].apply(lambda d: (d.day-1) // 7 + 1)"
   ]
  },
  {
   "cell_type": "code",
   "execution_count": 168,
   "id": "e50532d7",
   "metadata": {},
   "outputs": [],
   "source": [
    "# Renaming date columns to week\n",
    "hvc_df.rename(columns={'date_of_last_rech_6': 'week_of_last_rech_6', 'date_of_last_rech_7': 'week_of_last_rech_7',\n",
    "                      'date_of_last_rech_8': 'week_of_last_rech_8','date_of_last_rech_data_6':'week_of_last_rech_data_6',\n",
    "                      'date_of_last_rech_data_7':'week_of_last_rech_data_7',\n",
    "                       'date_of_last_rech_data_8':'week_of_last_rech_data_8'},inplace=True)"
   ]
  },
  {
   "cell_type": "code",
   "execution_count": 169,
   "id": "3a4e83bc",
   "metadata": {},
   "outputs": [
    {
     "data": {
      "text/plain": [
       "False"
      ]
     },
     "execution_count": 169,
     "metadata": {},
     "output_type": "execute_result"
    }
   ],
   "source": [
    "# Check for any null values in the dataset\n",
    "np.any(np.isnan(hvc_df))"
   ]
  },
  {
   "cell_type": "code",
   "execution_count": 170,
   "id": "ca50b886",
   "metadata": {},
   "outputs": [
    {
     "data": {
      "text/plain": [
       "False"
      ]
     },
     "execution_count": 170,
     "metadata": {},
     "output_type": "execute_result"
    }
   ],
   "source": [
    "# Check for infinity values present if any \n",
    "np.any(np.isinf(hvc_df))"
   ]
  },
  {
   "cell_type": "markdown",
   "id": "830afc23",
   "metadata": {},
   "source": [
    "####  The data is cleaned and we can do the modelling"
   ]
  },
  {
   "cell_type": "code",
   "execution_count": 171,
   "id": "a13958af",
   "metadata": {},
   "outputs": [
    {
     "data": {
      "image/png": "[encoded data removed]",
      "text/plain": [
       "<Figure size 288x216 with 1 Axes>"
      ]
     },
     "metadata": {},
     "output_type": "display_data"
    }
   ],
   "source": [
    "# Analysis of Churn percentage. Creating a pie Chart\n",
    "fig = plt.figure(figsize=[4,3])\n",
    "(hvc_df['churn'].value_counts()).plot(kind='pie', autopct='%1.0f%%')\n",
    "plt.title('Percentage of Churn and Non-Churn Customers')\n",
    "plt.show()"
   ]
  },
  {
   "cell_type": "markdown",
   "id": "c8b66016",
   "metadata": {},
   "source": [
    "### For class imbalance SMOTE technique can be used But for large dimensional data its preferable not to use"
   ]
  },
  {
   "cell_type": "markdown",
   "id": "94c614b1",
   "metadata": {},
   "source": [
    "# Modelling"
   ]
  },
  {
   "cell_type": "code",
   "execution_count": 172,
   "id": "1cfc6d88",
   "metadata": {},
   "outputs": [],
   "source": [
    "#splitting target variable and independent variable \n",
    "y = hvc_df.pop('churn')\n",
    "X = hvc_df"
   ]
  },
  {
   "cell_type": "code",
   "execution_count": 173,
   "id": "aca5d391",
   "metadata": {},
   "outputs": [],
   "source": [
    "# Splitting the data into train and test\n",
    "X_train , X_test , y_train , y_test = train_test_split(X, y, train_size=0.7, test_size=0.3, random_state=42)"
   ]
  },
  {
   "cell_type": "code",
   "execution_count": 174,
   "id": "e07fcb0e",
   "metadata": {},
   "outputs": [
    {
     "name": "stdout",
     "output_type": "stream",
     "text": [
      "(21000, 159) (21000,) (9001, 159) (9001,)\n"
     ]
    }
   ],
   "source": [
    " \n",
    "print(X_train.shape, y_train.shape, X_test.shape, y_test.shape)"
   ]
  },
  {
   "cell_type": "code",
   "execution_count": 175,
   "id": "6192835d",
   "metadata": {},
   "outputs": [],
   "source": [
    "# Storing the name of predictor columns of X_train for future\n",
    "X_train_columns=X_train.columns"
   ]
  },
  {
   "cell_type": "code",
   "execution_count": 176,
   "id": "29f8a115",
   "metadata": {},
   "outputs": [
    {
     "data": {
      "text/plain": [
       "array([[-0.04741513,  0.16028637, -0.96889117, ...,  1.35421828,\n",
       "        -0.15156914,  0.22685885],\n",
       "       [-0.21366042, -0.09097989, -0.18065956, ..., -0.38075646,\n",
       "        -0.15156914, -0.40400149],\n",
       "       [-0.4313653 , -0.52725442, -0.43775977, ..., -0.38075646,\n",
       "        -0.15156914, -0.36665745],\n",
       "       ...,\n",
       "       [ 1.10243551,  0.99217844, -0.04765787, ..., -0.38075646,\n",
       "        -0.15156914,  0.18516405],\n",
       "       [-0.35740833, -0.18291313,  0.4321179 , ..., -0.38075646,\n",
       "        -0.15156914, -0.46418701],\n",
       "       [ 1.97573273,  1.15712811,  0.74458101, ..., -0.38075646,\n",
       "        -0.15156914,  0.19749121]])"
      ]
     },
     "execution_count": 176,
     "metadata": {},
     "output_type": "execute_result"
    }
   ],
   "source": [
    "# Scaling the train dataset\n",
    "scaler = StandardScaler()\n",
    "X_train = scaler.fit_transform(X_train)\n",
    "\n",
    "X_train"
   ]
  },
  {
   "cell_type": "code",
   "execution_count": 177,
   "id": "dc072f2e",
   "metadata": {},
   "outputs": [],
   "source": [
    "# Scaling test dataset\n",
    "X_test = scaler.transform(X_test)"
   ]
  },
  {
   "cell_type": "markdown",
   "id": "6f071f9d",
   "metadata": {},
   "source": [
    "###  Reducing the number of variables using PCA"
   ]
  },
  {
   "cell_type": "code",
   "execution_count": 178,
   "id": "99b0fd7c",
   "metadata": {},
   "outputs": [],
   "source": [
    "pca = PCA(random_state=42)"
   ]
  },
  {
   "cell_type": "code",
   "execution_count": 179,
   "id": "61cfa38a",
   "metadata": {},
   "outputs": [
    {
     "data": {
      "text/plain": [
       "PCA(random_state=42)"
      ]
     },
     "execution_count": 179,
     "metadata": {},
     "output_type": "execute_result"
    }
   ],
   "source": [
    "pca.fit(X_train)"
   ]
  },
  {
   "cell_type": "code",
   "execution_count": 180,
   "id": "80be4bd2",
   "metadata": {},
   "outputs": [
    {
     "data": {
      "text/plain": [
       "array([[-5.49286968e-02, -5.51160847e-02, -4.48831416e-02, ...,\n",
       "         1.08511594e-01,  2.67879735e-02,  1.02402887e-01],\n",
       "       [ 1.58037862e-01,  1.67401450e-01,  1.68672663e-01, ...,\n",
       "         7.97582458e-02,  2.64754886e-02,  9.80276630e-02],\n",
       "       [ 9.05619892e-02,  1.11242379e-01,  9.83706239e-02, ...,\n",
       "         2.94704421e-02,  9.80943946e-03,  1.12129799e-01],\n",
       "       ...,\n",
       "       [ 0.00000000e+00, -1.91312304e-16,  1.91851290e-16, ...,\n",
       "        -1.49096906e-17, -1.30165999e-17,  9.74790760e-18],\n",
       "       [ 0.00000000e+00,  5.92104766e-17, -3.03932872e-16, ...,\n",
       "         1.54446444e-17,  1.10834472e-17,  9.99891711e-18],\n",
       "       [ 0.00000000e+00, -3.61902933e-17,  2.97555612e-17, ...,\n",
       "         9.67275424e-18,  5.40870213e-18, -1.10316049e-16]])"
      ]
     },
     "execution_count": 180,
     "metadata": {},
     "output_type": "execute_result"
    }
   ],
   "source": [
    "pca.components_"
   ]
  },
  {
   "cell_type": "code",
   "execution_count": 181,
   "id": "19c8495c",
   "metadata": {},
   "outputs": [
    {
     "data": {
      "text/plain": [
       "array([1.14094196e-01, 8.90310397e-02, 6.28024183e-02, 5.37377642e-02,\n",
       "       3.67585210e-02, 3.22642598e-02, 2.70726885e-02, 2.56034316e-02,\n",
       "       2.31882382e-02, 2.14941840e-02, 2.04705027e-02, 1.97085913e-02,\n",
       "       1.80052193e-02, 1.76712369e-02, 1.70239680e-02, 1.65842813e-02,\n",
       "       1.53824761e-02, 1.42611573e-02, 1.37990692e-02, 1.33798648e-02,\n",
       "       1.24160280e-02, 1.13819811e-02, 1.12399993e-02, 1.05087534e-02,\n",
       "       1.01478122e-02, 9.78749414e-03, 9.13143491e-03, 8.90563604e-03,\n",
       "       8.62288506e-03, 7.88377994e-03, 7.57943966e-03, 7.21990708e-03,\n",
       "       7.13673610e-03, 7.01947319e-03, 6.64151644e-03, 6.41039726e-03,\n",
       "       6.20744860e-03, 5.98563546e-03, 5.92811460e-03, 5.82003976e-03,\n",
       "       5.65437461e-03, 5.51037001e-03, 5.36409657e-03, 5.28186772e-03,\n",
       "       5.11221582e-03, 5.01509627e-03, 4.95183080e-03, 4.53109743e-03,\n",
       "       4.39057443e-03, 4.34024019e-03, 4.31927989e-03, 4.11265488e-03,\n",
       "       4.03268992e-03, 3.99784021e-03, 3.89410674e-03, 3.84556428e-03,\n",
       "       3.68526610e-03, 3.54784611e-03, 3.40983832e-03, 3.32648725e-03,\n",
       "       3.25404951e-03, 3.06336492e-03, 2.90460605e-03, 2.86146634e-03,\n",
       "       2.81973180e-03, 2.65042014e-03, 2.61663965e-03, 2.57783961e-03,\n",
       "       2.55813602e-03, 2.52384446e-03, 2.37269707e-03, 2.36427419e-03,\n",
       "       2.31666096e-03, 2.24874198e-03, 2.23377357e-03, 2.16720949e-03,\n",
       "       2.15871091e-03, 2.11323178e-03, 1.98420990e-03, 1.89805188e-03,\n",
       "       1.86144967e-03, 1.84357942e-03, 1.74982150e-03, 1.70363472e-03,\n",
       "       1.68672851e-03, 1.61019514e-03, 1.52948445e-03, 1.47633670e-03,\n",
       "       1.46625966e-03, 1.42893802e-03, 1.41043247e-03, 1.37575930e-03,\n",
       "       1.30517112e-03, 1.29527084e-03, 1.27065600e-03, 1.24778908e-03,\n",
       "       1.20742296e-03, 1.17008341e-03, 1.14647344e-03, 1.12660740e-03,\n",
       "       1.08699266e-03, 1.05313004e-03, 1.01700674e-03, 9.59912963e-04,\n",
       "       8.96169529e-04, 8.44218312e-04, 8.18071419e-04, 7.86672596e-04,\n",
       "       7.48640307e-04, 6.89736149e-04, 6.60674789e-04, 5.88617486e-04,\n",
       "       5.57699069e-04, 5.07168963e-04, 4.71933910e-04, 4.49847750e-04,\n",
       "       4.15463895e-04, 3.29477215e-04, 3.00083169e-04, 2.82626978e-04,\n",
       "       2.55722953e-04, 2.34693227e-04, 2.01382161e-04, 1.98726988e-04,\n",
       "       1.86611725e-04, 1.34907728e-04, 5.55524858e-05, 2.37967211e-05,\n",
       "       1.08834434e-05, 2.11300567e-06, 4.40364023e-07, 3.13682454e-07,\n",
       "       8.06462211e-12, 3.61359817e-12, 3.04544405e-12, 2.89395026e-12,\n",
       "       1.64497575e-12, 1.43548723e-12, 1.23165859e-12, 1.00973395e-12,\n",
       "       8.11599085e-13, 7.55300810e-13, 7.06501193e-13, 6.62549975e-13,\n",
       "       4.91990660e-13, 2.93058490e-13, 2.44616106e-13, 1.74543667e-13,\n",
       "       1.25443752e-13, 1.12868561e-13, 2.25011126e-32, 5.40952506e-34,\n",
       "       5.14478892e-34, 4.78428596e-34, 4.61511199e-34, 4.61511199e-34,\n",
       "       4.61511199e-34, 4.61511199e-34, 4.61511199e-34])"
      ]
     },
     "execution_count": 181,
     "metadata": {},
     "output_type": "execute_result"
    }
   ],
   "source": [
    "pca.explained_variance_ratio_"
   ]
  },
  {
   "cell_type": "code",
   "execution_count": 182,
   "id": "ebf14a82",
   "metadata": {},
   "outputs": [
    {
     "data": {
      "text/plain": [
       "array([0.1140942 , 0.20312524, 0.26592765, 0.31966542, 0.35642394,\n",
       "       0.3886882 , 0.41576089, 0.44136432, 0.46455256, 0.48604674,\n",
       "       0.50651724, 0.52622583, 0.54423105, 0.56190229, 0.57892626,\n",
       "       0.59551054, 0.61089302, 0.62515417, 0.63895324, 0.65233311,\n",
       "       0.66474914, 0.67613112, 0.68737112, 0.69787987, 0.70802768,\n",
       "       0.71781518, 0.72694661, 0.73585225, 0.74447513, 0.75235891,\n",
       "       0.75993835, 0.76715826, 0.77429499, 0.78131447, 0.78795598,\n",
       "       0.79436638, 0.80057383, 0.80655947, 0.81248758, 0.81830762,\n",
       "       0.82396199, 0.82947236, 0.83483646, 0.84011833, 0.84523054,\n",
       "       0.85024564, 0.85519747, 0.85972857, 0.86411914, 0.86845938,\n",
       "       0.87277866, 0.87689132, 0.88092401, 0.88492185, 0.88881596,\n",
       "       0.89266152, 0.89634679, 0.89989463, 0.90330447, 0.90663096,\n",
       "       0.90988501, 0.91294837, 0.91585298, 0.91871444, 0.92153418,\n",
       "       0.9241846 , 0.92680124, 0.92937908, 0.93193721, 0.93446106,\n",
       "       0.93683375, 0.93919803, 0.94151469, 0.94376343, 0.9459972 ,\n",
       "       0.94816441, 0.95032312, 0.95243636, 0.95442057, 0.95631862,\n",
       "       0.95818007, 0.96002365, 0.96177347, 0.9634771 , 0.96516383,\n",
       "       0.96677403, 0.96830351, 0.96977985, 0.97124611, 0.97267505,\n",
       "       0.97408548, 0.97546124, 0.97676641, 0.97806168, 0.97933234,\n",
       "       0.98058012, 0.98178755, 0.98295763, 0.9841041 , 0.98523071,\n",
       "       0.9863177 , 0.98737083, 0.98838784, 0.98934775, 0.99024392,\n",
       "       0.99108814, 0.99190621, 0.99269289, 0.99344153, 0.99413126,\n",
       "       0.99479194, 0.99538055, 0.99593825, 0.99644542, 0.99691736,\n",
       "       0.9973672 , 0.99778267, 0.99811215, 0.99841223, 0.99869486,\n",
       "       0.99895058, 0.99918527, 0.99938665, 0.99958538, 0.99977199,\n",
       "       0.9999069 , 0.99996245, 0.99998625, 0.99999713, 0.99999925,\n",
       "       0.99999969, 1.        , 1.        , 1.        , 1.        ,\n",
       "       1.        , 1.        , 1.        , 1.        , 1.        ,\n",
       "       1.        , 1.        , 1.        , 1.        , 1.        ,\n",
       "       1.        , 1.        , 1.        , 1.        , 1.        ,\n",
       "       1.        , 1.        , 1.        , 1.        , 1.        ,\n",
       "       1.        , 1.        , 1.        , 1.        ])"
      ]
     },
     "execution_count": 182,
     "metadata": {},
     "output_type": "execute_result"
    }
   ],
   "source": [
    "# Cummulative Vaiance\n",
    "var_cumsum = np.cumsum(pca.explained_variance_ratio_)\n",
    "var_cumsum"
   ]
  },
  {
   "cell_type": "code",
   "execution_count": 183,
   "id": "12c602db",
   "metadata": {},
   "outputs": [
    {
     "data": {
      "image/png": "[encoded data removed]",
      "text/plain": [
       "<Figure size 576x576 with 1 Axes>"
      ]
     },
     "metadata": {
      "needs_background": "light"
     },
     "output_type": "display_data"
    }
   ],
   "source": [
    "fig = plt.figure(figsize=[8,8])\n",
    "plt.plot(var_cumsum)\n",
    "plt.ylabel(\"Cumulative variance explained\")\n",
    "plt.show()"
   ]
  },
  {
   "cell_type": "code",
   "execution_count": 184,
   "id": "e1d7c2cf",
   "metadata": {},
   "outputs": [],
   "source": [
    "# PCA with 80 components\n",
    "pca_final = IncrementalPCA(n_components=80)"
   ]
  },
  {
   "cell_type": "code",
   "execution_count": 185,
   "id": "47751cf1",
   "metadata": {},
   "outputs": [],
   "source": [
    "X_train_pca = pca_final.fit_transform(X_train)"
   ]
  },
  {
   "cell_type": "code",
   "execution_count": 186,
   "id": "72d661e9",
   "metadata": {},
   "outputs": [
    {
     "data": {
      "text/plain": [
       "(21000, 80)"
      ]
     },
     "execution_count": 186,
     "metadata": {},
     "output_type": "execute_result"
    }
   ],
   "source": [
    "X_train_pca.shape"
   ]
  },
  {
   "cell_type": "code",
   "execution_count": 187,
   "id": "8c331ce7",
   "metadata": {},
   "outputs": [],
   "source": [
    "corr = np.corrcoef(X_train_pca.transpose())"
   ]
  },
  {
   "cell_type": "code",
   "execution_count": 188,
   "id": "d0417d7f",
   "metadata": {},
   "outputs": [
    {
     "data": {
      "text/plain": [
       "(80, 80)"
      ]
     },
     "execution_count": 188,
     "metadata": {},
     "output_type": "execute_result"
    }
   ],
   "source": [
    "corr.shape"
   ]
  },
  {
   "cell_type": "code",
   "execution_count": 189,
   "id": "651da24f",
   "metadata": {},
   "outputs": [
    {
     "data": {
      "text/plain": [
       "(9001, 80)"
      ]
     },
     "execution_count": 189,
     "metadata": {},
     "output_type": "execute_result"
    }
   ],
   "source": [
    "# Transformation on test dataset\n",
    "X_test_pca = pca_final.transform(X_test)\n",
    "X_test_pca.shape"
   ]
  },
  {
   "cell_type": "markdown",
   "id": "aba42602",
   "metadata": {},
   "source": [
    "### Logistic Regression Model with PCA"
   ]
  },
  {
   "cell_type": "code",
   "execution_count": 190,
   "id": "550319c2",
   "metadata": {},
   "outputs": [],
   "source": [
    "learner_pca = LogisticRegression(class_weight=\"balanced\")"
   ]
  },
  {
   "cell_type": "code",
   "execution_count": 191,
   "id": "6f652707",
   "metadata": {},
   "outputs": [],
   "source": [
    "#fitting the model\n",
    "model_pca = learner_pca.fit(X_train_pca, y_train)"
   ]
  },
  {
   "cell_type": "code",
   "execution_count": 192,
   "id": "7260a01d",
   "metadata": {},
   "outputs": [],
   "source": [
    "pred_probs_train = model_pca.predict_proba(X_train_pca)"
   ]
  },
  {
   "cell_type": "code",
   "execution_count": 193,
   "id": "bbc6e2cf",
   "metadata": {},
   "outputs": [
    {
     "data": {
      "text/plain": [
       "array([[0.13575881, 0.86424119],\n",
       "       [0.37463091, 0.62536909],\n",
       "       [0.94657344, 0.05342656],\n",
       "       ...,\n",
       "       [0.79753635, 0.20246365],\n",
       "       [0.91721584, 0.08278416],\n",
       "       [0.9718674 , 0.0281326 ]])"
      ]
     },
     "execution_count": 193,
     "metadata": {},
     "output_type": "execute_result"
    }
   ],
   "source": [
    "pred_probs_train"
   ]
  },
  {
   "cell_type": "code",
   "execution_count": 194,
   "id": "a602389a",
   "metadata": {},
   "outputs": [],
   "source": [
    "y_train_pred_final = pd.DataFrame({'Churn':y_train.values, 'Churn_Prob':pred_probs_train[:, 1].tolist()})"
   ]
  },
  {
   "cell_type": "code",
   "execution_count": 195,
   "id": "36e8955a",
   "metadata": {},
   "outputs": [
    {
     "data": {
      "text/html": [
       "<div>\n",
       "<style scoped>\n",
       "    .dataframe tbody tr th:only-of-type {\n",
       "        vertical-align: middle;\n",
       "    }\n",
       "\n",
       "    .dataframe tbody tr th {\n",
       "        vertical-align: top;\n",
       "    }\n",
       "\n",
       "    .dataframe thead th {\n",
       "        text-align: right;\n",
       "    }\n",
       "</style>\n",
       "<table border=\"1\" class=\"dataframe\">\n",
       "  <thead>\n",
       "    <tr style=\"text-align: right;\">\n",
       "      <th></th>\n",
       "      <th>Churn</th>\n",
       "      <th>Churn_Prob</th>\n",
       "    </tr>\n",
       "  </thead>\n",
       "  <tbody>\n",
       "    <tr>\n",
       "      <th>0</th>\n",
       "      <td>1</td>\n",
       "      <td>0.864241</td>\n",
       "    </tr>\n",
       "    <tr>\n",
       "      <th>1</th>\n",
       "      <td>0</td>\n",
       "      <td>0.625369</td>\n",
       "    </tr>\n",
       "    <tr>\n",
       "      <th>2</th>\n",
       "      <td>0</td>\n",
       "      <td>0.053427</td>\n",
       "    </tr>\n",
       "    <tr>\n",
       "      <th>3</th>\n",
       "      <td>0</td>\n",
       "      <td>0.478402</td>\n",
       "    </tr>\n",
       "    <tr>\n",
       "      <th>4</th>\n",
       "      <td>0</td>\n",
       "      <td>0.112306</td>\n",
       "    </tr>\n",
       "    <tr>\n",
       "      <th>...</th>\n",
       "      <td>...</td>\n",
       "      <td>...</td>\n",
       "    </tr>\n",
       "    <tr>\n",
       "      <th>20995</th>\n",
       "      <td>1</td>\n",
       "      <td>0.968252</td>\n",
       "    </tr>\n",
       "    <tr>\n",
       "      <th>20996</th>\n",
       "      <td>0</td>\n",
       "      <td>0.128349</td>\n",
       "    </tr>\n",
       "    <tr>\n",
       "      <th>20997</th>\n",
       "      <td>1</td>\n",
       "      <td>0.202464</td>\n",
       "    </tr>\n",
       "    <tr>\n",
       "      <th>20998</th>\n",
       "      <td>0</td>\n",
       "      <td>0.082784</td>\n",
       "    </tr>\n",
       "    <tr>\n",
       "      <th>20999</th>\n",
       "      <td>0</td>\n",
       "      <td>0.028133</td>\n",
       "    </tr>\n",
       "  </tbody>\n",
       "</table>\n",
       "<p>21000 rows × 2 columns</p>\n",
       "</div>"
      ],
      "text/plain": [
       "       Churn  Churn_Prob\n",
       "0          1    0.864241\n",
       "1          0    0.625369\n",
       "2          0    0.053427\n",
       "3          0    0.478402\n",
       "4          0    0.112306\n",
       "...      ...         ...\n",
       "20995      1    0.968252\n",
       "20996      0    0.128349\n",
       "20997      1    0.202464\n",
       "20998      0    0.082784\n",
       "20999      0    0.028133\n",
       "\n",
       "[21000 rows x 2 columns]"
      ]
     },
     "execution_count": 195,
     "metadata": {},
     "output_type": "execute_result"
    }
   ],
   "source": [
    "y_train_pred_final"
   ]
  },
  {
   "cell_type": "code",
   "execution_count": 196,
   "id": "b8c19d3d",
   "metadata": {},
   "outputs": [],
   "source": [
    "threshold = 0.5"
   ]
  },
  {
   "cell_type": "code",
   "execution_count": 197,
   "id": "da46bab6",
   "metadata": {},
   "outputs": [],
   "source": [
    "y_train_pred_final['Predicted'] = y_train_pred_final.Churn_Prob.map(lambda x: 1 if x > threshold else 0)"
   ]
  },
  {
   "cell_type": "code",
   "execution_count": 198,
   "id": "bf7bfd7e",
   "metadata": {},
   "outputs": [
    {
     "data": {
      "text/html": [
       "<div>\n",
       "<style scoped>\n",
       "    .dataframe tbody tr th:only-of-type {\n",
       "        vertical-align: middle;\n",
       "    }\n",
       "\n",
       "    .dataframe tbody tr th {\n",
       "        vertical-align: top;\n",
       "    }\n",
       "\n",
       "    .dataframe thead th {\n",
       "        text-align: right;\n",
       "    }\n",
       "</style>\n",
       "<table border=\"1\" class=\"dataframe\">\n",
       "  <thead>\n",
       "    <tr style=\"text-align: right;\">\n",
       "      <th></th>\n",
       "      <th>Churn</th>\n",
       "      <th>Churn_Prob</th>\n",
       "      <th>Predicted</th>\n",
       "    </tr>\n",
       "  </thead>\n",
       "  <tbody>\n",
       "    <tr>\n",
       "      <th>0</th>\n",
       "      <td>1</td>\n",
       "      <td>0.864241</td>\n",
       "      <td>1</td>\n",
       "    </tr>\n",
       "    <tr>\n",
       "      <th>1</th>\n",
       "      <td>0</td>\n",
       "      <td>0.625369</td>\n",
       "      <td>1</td>\n",
       "    </tr>\n",
       "    <tr>\n",
       "      <th>2</th>\n",
       "      <td>0</td>\n",
       "      <td>0.053427</td>\n",
       "      <td>0</td>\n",
       "    </tr>\n",
       "    <tr>\n",
       "      <th>3</th>\n",
       "      <td>0</td>\n",
       "      <td>0.478402</td>\n",
       "      <td>0</td>\n",
       "    </tr>\n",
       "    <tr>\n",
       "      <th>4</th>\n",
       "      <td>0</td>\n",
       "      <td>0.112306</td>\n",
       "      <td>0</td>\n",
       "    </tr>\n",
       "    <tr>\n",
       "      <th>...</th>\n",
       "      <td>...</td>\n",
       "      <td>...</td>\n",
       "      <td>...</td>\n",
       "    </tr>\n",
       "    <tr>\n",
       "      <th>20995</th>\n",
       "      <td>1</td>\n",
       "      <td>0.968252</td>\n",
       "      <td>1</td>\n",
       "    </tr>\n",
       "    <tr>\n",
       "      <th>20996</th>\n",
       "      <td>0</td>\n",
       "      <td>0.128349</td>\n",
       "      <td>0</td>\n",
       "    </tr>\n",
       "    <tr>\n",
       "      <th>20997</th>\n",
       "      <td>1</td>\n",
       "      <td>0.202464</td>\n",
       "      <td>0</td>\n",
       "    </tr>\n",
       "    <tr>\n",
       "      <th>20998</th>\n",
       "      <td>0</td>\n",
       "      <td>0.082784</td>\n",
       "      <td>0</td>\n",
       "    </tr>\n",
       "    <tr>\n",
       "      <th>20999</th>\n",
       "      <td>0</td>\n",
       "      <td>0.028133</td>\n",
       "      <td>0</td>\n",
       "    </tr>\n",
       "  </tbody>\n",
       "</table>\n",
       "<p>21000 rows × 3 columns</p>\n",
       "</div>"
      ],
      "text/plain": [
       "       Churn  Churn_Prob  Predicted\n",
       "0          1    0.864241          1\n",
       "1          0    0.625369          1\n",
       "2          0    0.053427          0\n",
       "3          0    0.478402          0\n",
       "4          0    0.112306          0\n",
       "...      ...         ...        ...\n",
       "20995      1    0.968252          1\n",
       "20996      0    0.128349          0\n",
       "20997      1    0.202464          0\n",
       "20998      0    0.082784          0\n",
       "20999      0    0.028133          0\n",
       "\n",
       "[21000 rows x 3 columns]"
      ]
     },
     "execution_count": 198,
     "metadata": {},
     "output_type": "execute_result"
    }
   ],
   "source": [
    "y_train_pred_final"
   ]
  },
  {
   "cell_type": "code",
   "execution_count": 199,
   "id": "fd45026a",
   "metadata": {},
   "outputs": [],
   "source": [
    "confusion = metrics.confusion_matrix(y_train_pred_final.Churn, y_train_pred_final.Predicted)"
   ]
  },
  {
   "cell_type": "code",
   "execution_count": 200,
   "id": "cda05cb4",
   "metadata": {},
   "outputs": [],
   "source": [
    "TP = confusion[1,1] # true positive \n",
    "TN = confusion[0,0] # true negatives\n",
    "FP = confusion[0,1] # false positives\n",
    "FN = confusion[1,0] # false negatives"
   ]
  },
  {
   "cell_type": "code",
   "execution_count": 201,
   "id": "8d8e1d81",
   "metadata": {},
   "outputs": [
    {
     "name": "stdout",
     "output_type": "stream",
     "text": [
      "Sensitivity: 0.8482758620689655\n",
      "Accuracy   : 0.8308095238095238\n"
     ]
    }
   ],
   "source": [
    "print(\"Sensitivity: \" + str(TP / float(TP+FN)))\n",
    "print(\"Accuracy   : \" + str(float(TP + TN) / float(TP + TN + FP + FN)))"
   ]
  },
  {
   "cell_type": "markdown",
   "id": "887810f0",
   "metadata": {},
   "source": [
    "#### High Sensitivity means there are few false negatives thus fewer cases of churn would be missed. Hence,sensitivity is required as much as possible. Hence, threshold=0.5 looks ok."
   ]
  },
  {
   "cell_type": "code",
   "execution_count": 202,
   "id": "eb387232",
   "metadata": {},
   "outputs": [],
   "source": [
    "# Test set prediction\n",
    "pred_probs_test = model_pca.predict_proba(X_test_pca)"
   ]
  },
  {
   "cell_type": "code",
   "execution_count": 203,
   "id": "0dbced5a",
   "metadata": {},
   "outputs": [],
   "source": [
    "y_test_pred_final = pd.DataFrame({'Churn':y_test.values, 'Churn_Prob':pred_probs_test[:, 1].tolist()})"
   ]
  },
  {
   "cell_type": "code",
   "execution_count": 204,
   "id": "cc27a023",
   "metadata": {},
   "outputs": [],
   "source": [
    "y_test_pred_final['Predicted'] = y_test_pred_final.Churn_Prob.map(lambda x: 1 if x > threshold else 0)"
   ]
  },
  {
   "cell_type": "code",
   "execution_count": 205,
   "id": "40ab17cf",
   "metadata": {},
   "outputs": [
    {
     "data": {
      "text/plain": [
       "(9001, 3)"
      ]
     },
     "execution_count": 205,
     "metadata": {},
     "output_type": "execute_result"
    }
   ],
   "source": [
    "y_test_pred_final.shape"
   ]
  },
  {
   "cell_type": "code",
   "execution_count": 206,
   "id": "5711a2e5",
   "metadata": {},
   "outputs": [
    {
     "name": "stdout",
     "output_type": "stream",
     "text": [
      "Sensitivity: 0.8145506419400856\n",
      "Accuracy   : 0.8221308743472947\n"
     ]
    }
   ],
   "source": [
    "# Confusion matrix for test dataset\n",
    "confusion = metrics.confusion_matrix(y_test_pred_final.Churn, y_test_pred_final.Predicted)\n",
    "\n",
    "TP = confusion[1,1] # true positive \n",
    "TN = confusion[0,0] # true negatives\n",
    "FP = confusion[0,1] # false positives\n",
    "FN = confusion[1,0] # false negatives\n",
    "\n",
    "# Sensitivity and Accuracy Metrics\n",
    "print(\"Sensitivity: \" + str(TP / float(TP+FN)))\n",
    "print(\"Accuracy   : \" + str(float(TP + TN) / float(TP + TN + FP + FN)))"
   ]
  },
  {
   "cell_type": "markdown",
   "id": "d1acc472",
   "metadata": {},
   "source": [
    "### Decision Tree Model with PCA variables"
   ]
  },
  {
   "cell_type": "code",
   "execution_count": 207,
   "id": "3305b4c3",
   "metadata": {},
   "outputs": [],
   "source": [
    "tree = DecisionTreeClassifier(random_state=42, max_depth=5, min_samples_leaf = 5, class_weight=\"balanced\")"
   ]
  },
  {
   "cell_type": "code",
   "execution_count": 208,
   "id": "faf17383",
   "metadata": {},
   "outputs": [
    {
     "data": {
      "text/plain": [
       "DecisionTreeClassifier(class_weight='balanced', max_depth=5, min_samples_leaf=5,\n",
       "                       random_state=42)"
      ]
     },
     "execution_count": 208,
     "metadata": {},
     "output_type": "execute_result"
    }
   ],
   "source": [
    "tree.fit(X_train_pca,y_train)"
   ]
  },
  {
   "cell_type": "code",
   "execution_count": 209,
   "id": "ae97ccba",
   "metadata": {},
   "outputs": [],
   "source": [
    "y_train_pred = tree.predict(X_train_pca)"
   ]
  },
  {
   "cell_type": "code",
   "execution_count": 210,
   "id": "dbdb17f4",
   "metadata": {},
   "outputs": [],
   "source": [
    "y_train_pred_final = pd.DataFrame({'Churn':y_train.values, 'Predicted':y_train_pred})"
   ]
  },
  {
   "cell_type": "code",
   "execution_count": 211,
   "id": "87c5ab0d",
   "metadata": {},
   "outputs": [
    {
     "name": "stdout",
     "output_type": "stream",
     "text": [
      "Sensitivity: 0.8040229885057472\n",
      "Accuracy   : 0.7774761904761904\n"
     ]
    }
   ],
   "source": [
    "confusion = metrics.confusion_matrix(y_train_pred_final.Churn, y_train_pred_final.Predicted)\n",
    "\n",
    "TP = confusion[1,1] # true positive \n",
    "TN = confusion[0,0] # true negatives\n",
    "FP = confusion[0,1] # false positives\n",
    "FN = confusion[1,0] # false negatives\n",
    "\n",
    "# Sensitivity and Accuracy Metrics\n",
    "print(\"Sensitivity: \" + str(TP / float(TP+FN)))\n",
    "print(\"Accuracy   : \" + str(float(TP + TN) / float(TP + TN + FP + FN)))"
   ]
  },
  {
   "cell_type": "markdown",
   "id": "b7f445f3",
   "metadata": {},
   "source": [
    "### HyperParameter Tunning"
   ]
  },
  {
   "cell_type": "code",
   "execution_count": 212,
   "id": "be4fd744",
   "metadata": {},
   "outputs": [],
   "source": [
    "dt = DecisionTreeClassifier(random_state=42, class_weight=\"balanced\")"
   ]
  },
  {
   "cell_type": "code",
   "execution_count": 213,
   "id": "7c96368a",
   "metadata": {},
   "outputs": [],
   "source": [
    "params = {\n",
    "    'max_depth': [5, 10, 20, 50],\n",
    "    'min_samples_leaf': [10, 20, 50, 100]\n",
    "}"
   ]
  },
  {
   "cell_type": "code",
   "execution_count": 214,
   "id": "56826788",
   "metadata": {},
   "outputs": [],
   "source": [
    "grid_search = GridSearchCV(estimator=dt, \n",
    "                           param_grid=params, \n",
    "                           cv=4, n_jobs=-1, verbose=1, scoring = \"recall\")"
   ]
  },
  {
   "cell_type": "code",
   "execution_count": 215,
   "id": "bf78570c",
   "metadata": {},
   "outputs": [
    {
     "name": "stdout",
     "output_type": "stream",
     "text": [
      "Fitting 4 folds for each of 16 candidates, totalling 64 fits\n",
      "Wall time: 30.3 s\n"
     ]
    },
    {
     "data": {
      "text/plain": [
       "GridSearchCV(cv=4,\n",
       "             estimator=DecisionTreeClassifier(class_weight='balanced',\n",
       "                                              random_state=42),\n",
       "             n_jobs=-1,\n",
       "             param_grid={'max_depth': [5, 10, 20, 50],\n",
       "                         'min_samples_leaf': [10, 20, 50, 100]},\n",
       "             scoring='recall', verbose=1)"
      ]
     },
     "execution_count": 215,
     "metadata": {},
     "output_type": "execute_result"
    }
   ],
   "source": [
    "%%time\n",
    "grid_search.fit(X_train_pca, y_train)"
   ]
  },
  {
   "cell_type": "code",
   "execution_count": 216,
   "id": "d2fc9204",
   "metadata": {},
   "outputs": [
    {
     "data": {
      "text/plain": [
       "DecisionTreeClassifier(class_weight='balanced', max_depth=10,\n",
       "                       min_samples_leaf=100, random_state=42)"
      ]
     },
     "execution_count": 216,
     "metadata": {},
     "output_type": "execute_result"
    }
   ],
   "source": [
    "grid_search.best_estimator_"
   ]
  },
  {
   "cell_type": "code",
   "execution_count": 217,
   "id": "e52948e7",
   "metadata": {},
   "outputs": [],
   "source": [
    "y_train_pred = grid_search.best_estimator_.predict(X_train_pca)"
   ]
  },
  {
   "cell_type": "code",
   "execution_count": 218,
   "id": "1c3be10f",
   "metadata": {},
   "outputs": [],
   "source": [
    "y_train_pred_final = pd.DataFrame({'Churn':y_train.values, 'Predicted':y_train_pred})"
   ]
  },
  {
   "cell_type": "code",
   "execution_count": 219,
   "id": "9a333034",
   "metadata": {},
   "outputs": [
    {
     "name": "stdout",
     "output_type": "stream",
     "text": [
      "Sensitivity: 0.8695402298850575\n",
      "Accuracy   : 0.7842857142857143\n"
     ]
    }
   ],
   "source": [
    "confusion = metrics.confusion_matrix(y_train_pred_final.Churn, y_train_pred_final.Predicted)\n",
    "\n",
    "TP = confusion[1,1] # true positive \n",
    "TN = confusion[0,0] # true negatives\n",
    "FP = confusion[0,1] # false positives\n",
    "FN = confusion[1,0] # false negatives\n",
    "\n",
    "# Sensitivity and Accuracy Metrics\n",
    "print(\"Sensitivity: \" + str(TP / float(TP+FN)))\n",
    "print(\"Accuracy   : \" + str(float(TP + TN) / float(TP + TN + FP + FN)))"
   ]
  },
  {
   "cell_type": "code",
   "execution_count": 220,
   "id": "2e1a4a16",
   "metadata": {},
   "outputs": [],
   "source": [
    "y_test_pred = grid_search.best_estimator_.predict(X_test_pca)"
   ]
  },
  {
   "cell_type": "code",
   "execution_count": 221,
   "id": "a67a97b2",
   "metadata": {},
   "outputs": [],
   "source": [
    "y_test_pred_final = pd.DataFrame({'Churn':y_test.values, 'Predicted':y_test_pred})"
   ]
  },
  {
   "cell_type": "code",
   "execution_count": 222,
   "id": "9be91f35",
   "metadata": {},
   "outputs": [
    {
     "name": "stdout",
     "output_type": "stream",
     "text": [
      "Sensitivity: 0.7617689015691869\n",
      "Accuracy   : 0.7548050216642596\n"
     ]
    }
   ],
   "source": [
    "confusion = metrics.confusion_matrix(y_test_pred_final.Churn, y_test_pred_final.Predicted)\n",
    "\n",
    "TP = confusion[1,1] # true positive \n",
    "TN = confusion[0,0] # true negatives\n",
    "FP = confusion[0,1] # false positives\n",
    "FN = confusion[1,0] # false negatives\n",
    "\n",
    "# Sensitivity and Accuracy Metrics\n",
    "print(\"Sensitivity: \" + str(TP / float(TP+FN)))\n",
    "print(\"Accuracy   : \" + str(float(TP + TN) / float(TP + TN + FP + FN)))"
   ]
  },
  {
   "cell_type": "markdown",
   "id": "ffaf5707",
   "metadata": {},
   "source": [
    "### Random Forest"
   ]
  },
  {
   "cell_type": "code",
   "execution_count": 223,
   "id": "4ba183ed",
   "metadata": {},
   "outputs": [],
   "source": [
    "classifier_rf = RandomForestClassifier(random_state=42, n_jobs=-1, class_weight=\"balanced\")"
   ]
  },
  {
   "cell_type": "code",
   "execution_count": 224,
   "id": "b2d13563",
   "metadata": {},
   "outputs": [],
   "source": [
    "# Create the parameter grid based on the results of random search \n",
    "params = {\n",
    "    'max_depth': [2, 5, 10],\n",
    "    'min_samples_leaf': [50, 100, 200],\n",
    "    'max_features': [8, 10],\n",
    "    'n_estimators': [50, 100, 200]\n",
    "}"
   ]
  },
  {
   "cell_type": "code",
   "execution_count": 225,
   "id": "3d1bbc49",
   "metadata": {},
   "outputs": [],
   "source": [
    "grid_search = GridSearchCV(estimator=classifier_rf, param_grid=params, \n",
    "                          cv=4, n_jobs=-1, verbose=1, scoring = \"recall\")"
   ]
  },
  {
   "cell_type": "code",
   "execution_count": 226,
   "id": "f710dfbd",
   "metadata": {},
   "outputs": [
    {
     "name": "stdout",
     "output_type": "stream",
     "text": [
      "Fitting 4 folds for each of 54 candidates, totalling 216 fits\n",
      "Wall time: 8min 47s\n"
     ]
    },
    {
     "data": {
      "text/plain": [
       "GridSearchCV(cv=4,\n",
       "             estimator=RandomForestClassifier(class_weight='balanced',\n",
       "                                              n_jobs=-1, random_state=42),\n",
       "             n_jobs=-1,\n",
       "             param_grid={'max_depth': [2, 5, 10], 'max_features': [8, 10],\n",
       "                         'min_samples_leaf': [50, 100, 200],\n",
       "                         'n_estimators': [50, 100, 200]},\n",
       "             scoring='recall', verbose=1)"
      ]
     },
     "execution_count": 226,
     "metadata": {},
     "output_type": "execute_result"
    }
   ],
   "source": [
    "%%time\n",
    "grid_search.fit(X_train_pca,y_train)"
   ]
  },
  {
   "cell_type": "code",
   "execution_count": 227,
   "id": "f1a7d775",
   "metadata": {},
   "outputs": [
    {
     "data": {
      "text/plain": [
       "RandomForestClassifier(class_weight='balanced', max_depth=2, max_features=8,\n",
       "                       min_samples_leaf=50, n_estimators=50, n_jobs=-1,\n",
       "                       random_state=42)"
      ]
     },
     "execution_count": 227,
     "metadata": {},
     "output_type": "execute_result"
    }
   ],
   "source": [
    "grid_search.best_estimator_"
   ]
  },
  {
   "cell_type": "code",
   "execution_count": 228,
   "id": "d18af9c4",
   "metadata": {},
   "outputs": [],
   "source": [
    "# Train set prediction\n",
    "y_train_pred = grid_search.best_estimator_.predict(X_train_pca)"
   ]
  },
  {
   "cell_type": "code",
   "execution_count": 229,
   "id": "ccdb3f01",
   "metadata": {},
   "outputs": [],
   "source": [
    "y_train_pred_final = pd.DataFrame({'Churn':y_train.values, 'Predicted':y_train_pred})"
   ]
  },
  {
   "cell_type": "code",
   "execution_count": 230,
   "id": "856ff126",
   "metadata": {},
   "outputs": [
    {
     "name": "stdout",
     "output_type": "stream",
     "text": [
      "Sensitivity: 0.7839080459770115\n",
      "Accuracy   : 0.8172857142857143\n"
     ]
    }
   ],
   "source": [
    "# Confusion matrix\n",
    "confusion = metrics.confusion_matrix(y_train_pred_final.Churn, y_train_pred_final.Predicted)\n",
    "\n",
    "TP = confusion[1,1] # true positive \n",
    "TN = confusion[0,0] # true negatives\n",
    "FP = confusion[0,1] # false positives\n",
    "FN = confusion[1,0] # false negatives\n",
    "\n",
    "# Sensitivity and Accuracy Metrics\n",
    "print(\"Sensitivity: \" + str(TP / float(TP+FN)))\n",
    "print(\"Accuracy   : \" + str(float(TP + TN) / float(TP + TN + FP + FN)))"
   ]
  },
  {
   "cell_type": "code",
   "execution_count": 231,
   "id": "9dbb326f",
   "metadata": {},
   "outputs": [],
   "source": [
    "# Test set prediction\n",
    "y_test_pred = grid_search.best_estimator_.predict(X_test_pca)"
   ]
  },
  {
   "cell_type": "code",
   "execution_count": 232,
   "id": "b0d99098",
   "metadata": {},
   "outputs": [],
   "source": [
    "y_test_pred_final = pd.DataFrame({'Churn':y_test.values, 'Predicted':y_test_pred})"
   ]
  },
  {
   "cell_type": "code",
   "execution_count": 233,
   "id": "6de89ebd",
   "metadata": {},
   "outputs": [
    {
     "name": "stdout",
     "output_type": "stream",
     "text": [
      "Sensitivity: 0.7731811697574893\n",
      "Accuracy   : 0.8100211087656927\n"
     ]
    }
   ],
   "source": [
    "# Confusion matrix\n",
    "confusion = metrics.confusion_matrix(y_test_pred_final.Churn, y_test_pred_final.Predicted)\n",
    "\n",
    "TP = confusion[1,1] # true positive \n",
    "TN = confusion[0,0] # true negatives\n",
    "FP = confusion[0,1] # false positives\n",
    "FN = confusion[1,0] # false negatives\n",
    "\n",
    "# Sensitivity and Accuracy Metrics\n",
    "print(\"Sensitivity: \" + str(TP / float(TP+FN)))\n",
    "print(\"Accuracy   : \" + str(float(TP + TN) / float(TP + TN + FP + FN)))"
   ]
  },
  {
   "cell_type": "markdown",
   "id": "588160ba",
   "metadata": {},
   "source": [
    "#### Random Forest is giving a good model "
   ]
  },
  {
   "cell_type": "markdown",
   "id": "862a4823",
   "metadata": {},
   "source": [
    "### Random Forest without PCA"
   ]
  },
  {
   "cell_type": "code",
   "execution_count": 235,
   "id": "e4b2e73c",
   "metadata": {},
   "outputs": [],
   "source": [
    "classifier_rf = RandomForestClassifier(random_state=42, n_jobs=-1, class_weight=\"balanced\")\n",
    "\n",
    "# Create the parameter grid based on the results of random search \n",
    "params = {\n",
    "    'max_depth': [2, 5, 10],\n",
    "    'min_samples_leaf': [50, 100, 200],\n",
    "    'max_features': [8, 10],\n",
    "    'n_estimators': [50, 100, 200]\n",
    "}"
   ]
  },
  {
   "cell_type": "code",
   "execution_count": 236,
   "id": "da34ec68",
   "metadata": {},
   "outputs": [],
   "source": [
    "# Instantiate the grid search model\n",
    "grid_search = GridSearchCV(estimator=classifier_rf, param_grid=params, \n",
    "                          cv=4, n_jobs=-1, verbose=1, scoring = \"recall\")"
   ]
  },
  {
   "cell_type": "code",
   "execution_count": 237,
   "id": "b06c76d4",
   "metadata": {},
   "outputs": [
    {
     "name": "stdout",
     "output_type": "stream",
     "text": [
      "Fitting 4 folds for each of 54 candidates, totalling 216 fits\n",
      "Wall time: 4min 41s\n"
     ]
    },
    {
     "data": {
      "text/plain": [
       "GridSearchCV(cv=4,\n",
       "             estimator=RandomForestClassifier(class_weight='balanced',\n",
       "                                              n_jobs=-1, random_state=42),\n",
       "             n_jobs=-1,\n",
       "             param_grid={'max_depth': [2, 5, 10], 'max_features': [8, 10],\n",
       "                         'min_samples_leaf': [50, 100, 200],\n",
       "                         'n_estimators': [50, 100, 200]},\n",
       "             scoring='recall', verbose=1)"
      ]
     },
     "execution_count": 237,
     "metadata": {},
     "output_type": "execute_result"
    }
   ],
   "source": [
    "%%time\n",
    "grid_search.fit(X_train,y_train)\n",
    "\n"
   ]
  },
  {
   "cell_type": "code",
   "execution_count": 238,
   "id": "c83db8a0",
   "metadata": {},
   "outputs": [],
   "source": [
    "rf_best=grid_search.best_estimator_"
   ]
  },
  {
   "cell_type": "code",
   "execution_count": 239,
   "id": "876a8cb5",
   "metadata": {},
   "outputs": [
    {
     "name": "stdout",
     "output_type": "stream",
     "text": [
      "Sensitivity: 0.8126436781609195\n",
      "Accuracy   : 0.8928095238095238\n"
     ]
    }
   ],
   "source": [
    "#### Train set prediction :: RF\n",
    "\n",
    "y_train_pred = rf_best.predict(X_train)\n",
    "\n",
    "y_train_pred_final = pd.DataFrame({'Churn':y_train.values, 'Predicted':y_train_pred})\n",
    "\n",
    "# Confusion matrix\n",
    "confusion = metrics.confusion_matrix(y_train_pred_final.Churn, y_train_pred_final.Predicted)\n",
    "\n",
    "TP = confusion[1,1] # true positive \n",
    "TN = confusion[0,0] # true negatives\n",
    "FP = confusion[0,1] # false positives\n",
    "FN = confusion[1,0] # false negatives\n",
    "\n",
    "# Sensitivity and Accuracy Metrics\n",
    "print(\"Sensitivity: \" + str(TP / float(TP+FN)))\n",
    "print(\"Accuracy   : \" + str(float(TP + TN) / float(TP + TN + FP + FN)))"
   ]
  },
  {
   "cell_type": "code",
   "execution_count": 240,
   "id": "7397922c",
   "metadata": {},
   "outputs": [
    {
     "name": "stdout",
     "output_type": "stream",
     "text": [
      "Sensitivity: 0.7888730385164051\n",
      "Accuracy   : 0.8821242084212865\n"
     ]
    }
   ],
   "source": [
    "#### Test set prediction :: RF\n",
    "\n",
    "y_test_pred = rf_best.predict(X_test)\n",
    "\n",
    "y_test_pred_final = pd.DataFrame({'Churn':y_test.values, 'Predicted':y_test_pred})\n",
    "\n",
    "# Confusion matrix\n",
    "confusion = metrics.confusion_matrix(y_test_pred_final.Churn, y_test_pred_final.Predicted)\n",
    "\n",
    "TP = confusion[1,1] # true positive \n",
    "TN = confusion[0,0] # true negatives\n",
    "FP = confusion[0,1] # false positives\n",
    "FN = confusion[1,0] # false negatives\n",
    "\n",
    "# Sensitivity and Accuracy Metrics\n",
    "print(\"Sensitivity: \" + str(TP / float(TP+FN)))\n",
    "print(\"Accuracy   : \" + str(float(TP + TN) / float(TP + TN + FP + FN)))"
   ]
  },
  {
   "cell_type": "code",
   "execution_count": 241,
   "id": "0cbd5af8",
   "metadata": {},
   "outputs": [
    {
     "data": {
      "text/plain": [
       "array([1.15104063e-03, 2.65288654e-03, 4.49816411e-02, 1.30056011e-03,\n",
       "       1.29630157e-03, 1.92609292e-02, 1.43867423e-03, 1.08153655e-03,\n",
       "       1.40735647e-02, 3.85972175e-04, 1.18163243e-03, 2.40274115e-02,\n",
       "       2.18755540e-04, 9.56528218e-04, 2.64999542e-02, 1.08285121e-03,\n",
       "       1.05325834e-03, 4.11351940e-02, 2.29440752e-03, 2.65489920e-03,\n",
       "       5.78355690e-02, 6.15971173e-04, 2.01255923e-03, 1.01136287e-02,\n",
       "       1.59378514e-05, 9.75483448e-05, 5.21607536e-05, 7.23294625e-04,\n",
       "       1.78973492e-03, 2.51406655e-02, 2.55261068e-03, 2.22338411e-03,\n",
       "       1.28332400e-03, 8.43554977e-04, 1.64747408e-03, 2.96516069e-03,\n",
       "       3.79475940e-07, 8.23975819e-06, 4.10090527e-05, 3.79270606e-03,\n",
       "       4.86589280e-03, 6.86751401e-03, 8.65587246e-05, 1.28656640e-05,\n",
       "       1.24449636e-04, 2.47155214e-04, 8.40155793e-04, 9.11976328e-04,\n",
       "       1.07140251e-04, 0.00000000e+00, 0.00000000e+00, 1.62689047e-03,\n",
       "       3.15266922e-03, 2.50326498e-02, 1.39167572e-03, 1.53203309e-03,\n",
       "       4.41937828e-02, 2.54091925e-03, 6.12423331e-03, 4.41677829e-02,\n",
       "       5.59845564e-04, 1.70952614e-03, 2.18111232e-02, 1.44943923e-03,\n",
       "       3.75579810e-03, 9.52688371e-02, 5.56207894e-04, 5.71505560e-04,\n",
       "       5.12513974e-03, 7.53628974e-04, 4.98335385e-04, 9.58899461e-03,\n",
       "       9.25186256e-05, 2.74411894e-04, 2.77476322e-03, 4.57765919e-04,\n",
       "       5.80504123e-04, 3.03491408e-02, 1.71501436e-03, 2.87906842e-03,\n",
       "       6.78888649e-02, 2.51599000e-04, 0.00000000e+00, 0.00000000e+00,\n",
       "       1.63034491e-04, 3.17521753e-04, 4.69473847e-05, 3.63745539e-04,\n",
       "       2.13731515e-05, 3.84026232e-04, 8.57653778e-04, 1.81500716e-03,\n",
       "       7.38642470e-03, 2.12882964e-03, 2.59088886e-03, 2.98738159e-02,\n",
       "       5.58403496e-04, 5.97227697e-04, 2.14031922e-02, 1.17757354e-04,\n",
       "       3.49557291e-06, 3.51945172e-02, 3.06066896e-04, 2.98766255e-04,\n",
       "       3.94865816e-02, 9.42093103e-05, 1.26614817e-03, 7.25672472e-03,\n",
       "       3.78161723e-04, 3.49409200e-04, 1.95245005e-02, 6.34142417e-04,\n",
       "       1.02923754e-03, 1.56734000e-02, 4.86906686e-04, 7.18333695e-04,\n",
       "       4.01007351e-03, 1.67753359e-05, 8.88544491e-05, 9.73982012e-04,\n",
       "       5.28588616e-04, 2.42152235e-03, 3.22586843e-02, 7.60062943e-04,\n",
       "       7.83275927e-04, 1.72002436e-02, 4.08447241e-04, 6.08168605e-04,\n",
       "       6.34706741e-03, 1.86194684e-04, 1.21819090e-03, 5.55893343e-03,\n",
       "       2.91128682e-04, 8.88678015e-04, 2.46337130e-03, 0.00000000e+00,\n",
       "       0.00000000e+00, 0.00000000e+00, 2.87684571e-04, 4.22691346e-06,\n",
       "       2.07268745e-03, 1.27739012e-04, 3.92753368e-06, 1.36028682e-03,\n",
       "       2.70223381e-04, 2.53722598e-05, 1.61735418e-04, 0.00000000e+00,\n",
       "       4.25282145e-05, 5.20008392e-19, 2.88944121e-04, 7.43372839e-04,\n",
       "       2.22259239e-02, 1.95550472e-03, 3.65366594e-03, 2.62070475e-04,\n",
       "       7.21232840e-04, 6.17142244e-04, 1.61574762e-03])"
      ]
     },
     "execution_count": 241,
     "metadata": {},
     "output_type": "execute_result"
    }
   ],
   "source": [
    "grid_search.best_estimator_.feature_importances_"
   ]
  },
  {
   "cell_type": "code",
   "execution_count": 242,
   "id": "7e0663b1",
   "metadata": {},
   "outputs": [],
   "source": [
    "imp_hvc_df = pd.DataFrame({\n",
    "    \"Varname\": X_train_columns,\n",
    "    \"Imp\": grid_search.best_estimator_.feature_importances_\n",
    "})"
   ]
  },
  {
   "cell_type": "code",
   "execution_count": 243,
   "id": "013157d0",
   "metadata": {},
   "outputs": [
    {
     "data": {
      "text/html": [
       "<div>\n",
       "<style scoped>\n",
       "    .dataframe tbody tr th:only-of-type {\n",
       "        vertical-align: middle;\n",
       "    }\n",
       "\n",
       "    .dataframe tbody tr th {\n",
       "        vertical-align: top;\n",
       "    }\n",
       "\n",
       "    .dataframe thead th {\n",
       "        text-align: right;\n",
       "    }\n",
       "</style>\n",
       "<table border=\"1\" class=\"dataframe\">\n",
       "  <thead>\n",
       "    <tr style=\"text-align: right;\">\n",
       "      <th></th>\n",
       "      <th>Varname</th>\n",
       "      <th>Imp</th>\n",
       "    </tr>\n",
       "  </thead>\n",
       "  <tbody>\n",
       "    <tr>\n",
       "      <th>65</th>\n",
       "      <td>loc_ic_mou_8</td>\n",
       "      <td>0.095269</td>\n",
       "    </tr>\n",
       "    <tr>\n",
       "      <th>80</th>\n",
       "      <td>total_ic_mou_8</td>\n",
       "      <td>0.067889</td>\n",
       "    </tr>\n",
       "    <tr>\n",
       "      <th>20</th>\n",
       "      <td>loc_og_t2m_mou_8</td>\n",
       "      <td>0.057836</td>\n",
       "    </tr>\n",
       "    <tr>\n",
       "      <th>2</th>\n",
       "      <td>arpu_8</td>\n",
       "      <td>0.044982</td>\n",
       "    </tr>\n",
       "    <tr>\n",
       "      <th>56</th>\n",
       "      <td>loc_ic_t2t_mou_8</td>\n",
       "      <td>0.044194</td>\n",
       "    </tr>\n",
       "    <tr>\n",
       "      <th>...</th>\n",
       "      <td>...</td>\n",
       "      <td>...</td>\n",
       "    </tr>\n",
       "    <tr>\n",
       "      <th>49</th>\n",
       "      <td>og_others_7</td>\n",
       "      <td>0.000000</td>\n",
       "    </tr>\n",
       "    <tr>\n",
       "      <th>136</th>\n",
       "      <td>night_pck_user_7</td>\n",
       "      <td>0.000000</td>\n",
       "    </tr>\n",
       "    <tr>\n",
       "      <th>50</th>\n",
       "      <td>og_others_8</td>\n",
       "      <td>0.000000</td>\n",
       "    </tr>\n",
       "    <tr>\n",
       "      <th>135</th>\n",
       "      <td>night_pck_user_6</td>\n",
       "      <td>0.000000</td>\n",
       "    </tr>\n",
       "    <tr>\n",
       "      <th>82</th>\n",
       "      <td>spl_ic_mou_7</td>\n",
       "      <td>0.000000</td>\n",
       "    </tr>\n",
       "  </tbody>\n",
       "</table>\n",
       "<p>159 rows × 2 columns</p>\n",
       "</div>"
      ],
      "text/plain": [
       "              Varname       Imp\n",
       "65       loc_ic_mou_8  0.095269\n",
       "80     total_ic_mou_8  0.067889\n",
       "20   loc_og_t2m_mou_8  0.057836\n",
       "2              arpu_8  0.044982\n",
       "56   loc_ic_t2t_mou_8  0.044194\n",
       "..                ...       ...\n",
       "49        og_others_7  0.000000\n",
       "136  night_pck_user_7  0.000000\n",
       "50        og_others_8  0.000000\n",
       "135  night_pck_user_6  0.000000\n",
       "82       spl_ic_mou_7  0.000000\n",
       "\n",
       "[159 rows x 2 columns]"
      ]
     },
     "execution_count": 243,
     "metadata": {},
     "output_type": "execute_result"
    }
   ],
   "source": [
    "imp_hvc_df.sort_values(by=\"Imp\", ascending=False)"
   ]
  },
  {
   "cell_type": "code",
   "execution_count": 244,
   "id": "fb02121f",
   "metadata": {},
   "outputs": [
    {
     "data": {
      "image/png": "[encoded data removed]",
      "text/plain": [
       "<Figure size 1080x360 with 1 Axes>"
      ]
     },
     "metadata": {
      "needs_background": "light"
     },
     "output_type": "display_data"
    }
   ],
   "source": [
    "plt.figure(figsize=[15,5])\n",
    "sns.barplot(x='Varname', y='Imp', data=imp_hvc_df.sort_values(by=\"Imp\", ascending=False).head(15))\n",
    "locs, labels = plt.xticks()\n",
    "plt.setp(labels, rotation=90, fontsize=14)\n",
    "plt.suptitle('Feature_Importance :: Top 15', fontsize=18)\n",
    "plt.show()"
   ]
  },
  {
   "cell_type": "markdown",
   "id": "26d7d079",
   "metadata": {},
   "source": [
    "#### Business Recommendations\n",
    "##### The customers who are predicted to be churned can be faciliated with more offers on local and total incoming minutes of usuage\n",
    "##### Run discount campaigns on certain weeks of month for data + incoming and outgoing calls\n",
    "##### Within the same operator local incoming and outgoing minutes of usuage should be offered more deals"
   ]
  },
  {
   "cell_type": "code",
   "execution_count": null,
   "id": "8fd5f0c2",
   "metadata": {},
   "outputs": [],
   "source": []
  }
 ],
 "metadata": {
  "kernelspec": {
   "display_name": "Python 3",
   "language": "python",
   "name": "python3"
  },
  "language_info": {
   "codemirror_mode": {
    "name": "ipython",
    "version": 3
   },
   "file_extension": ".py",
   "mimetype": "text/x-python",
   "name": "python",
   "nbconvert_exporter": "python",
   "pygments_lexer": "ipython3",
   "version": "3.8.8"
  }
 },
 "nbformat": 4,
 "nbformat_minor": 5
}
